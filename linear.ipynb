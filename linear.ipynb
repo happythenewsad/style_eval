{
 "cells": [
  {
   "cell_type": "code",
   "execution_count": 1,
   "metadata": {},
   "outputs": [
    {
     "name": "stderr",
     "output_type": "stream",
     "text": [
      "/Users/peterkong/miniconda3/lib/python3.6/importlib/_bootstrap.py:219: RuntimeWarning: numpy.dtype size changed, may indicate binary incompatibility. Expected 96, got 88\n",
      "  return f(*args, **kwds)\n",
      "/Users/peterkong/miniconda3/lib/python3.6/importlib/_bootstrap.py:219: RuntimeWarning: numpy.dtype size changed, may indicate binary incompatibility. Expected 96, got 88\n",
      "  return f(*args, **kwds)\n",
      "/Users/peterkong/miniconda3/lib/python3.6/importlib/_bootstrap.py:219: RuntimeWarning: numpy.dtype size changed, may indicate binary incompatibility. Expected 96, got 88\n",
      "  return f(*args, **kwds)\n"
     ]
    }
   ],
   "source": [
    "import unidecode\n",
    "from nltk.translate.bleu_score import sentence_bleu\n",
    "import random as rd\n",
    "\n",
    "play_file_infixes = ['othello', 'antony-and-cleopatra', 'asyoulikeit', \n",
    "                     'errors', 'hamlet', 'henryv', 'juliuscaesar', 'lear', 'macbeth', \n",
    "                     'merchant', 'msnd', 'muchado', 'richardiii', 'romeojuliet', \n",
    "                     'shrew', 'tempest', 'twelfthnight']\n",
    "#play_file_infixes = ['othello', 'henryv']\n",
    "\n",
    "agg_original_tuples = []\n",
    "agg_modern_tuples = []\n",
    "path = \"data/shakespeare/data/align/plays/merged/\"\n",
    "\n",
    "for infix in play_file_infixes:\n",
    "    modern_tuples = unidecode.unidecode(open(path + infix + \"_modern.snt.aligned\").read()).split(\"\\n\")\n",
    "    original_tuples = unidecode.unidecode(open(path + infix + \"_original.snt.aligned\").read()).split(\"\\n\")\n",
    "    agg_original_tuples.extend(original_tuples)\n",
    "    agg_modern_tuples.extend(modern_tuples)"
   ]
  },
  {
   "cell_type": "code",
   "execution_count": 2,
   "metadata": {},
   "outputs": [
    {
     "name": "stdout",
     "output_type": "stream",
     "text": [
      "What's the matter, lieutenant?\n",
      "What's the matter, lieutenant?\n",
      "\n"
     ]
    }
   ],
   "source": [
    "print(\"{}\\n{}\\n\".format(agg_original_tuples[0], agg_modern_tuples[0]))\n",
    "#print(\"{}\\n{}\\n\".format(agg_original_tuples[5000], agg_modern_tuples[5000]))\n",
    "# print(\"{}\\n{}\\n\".format(agg_original_tuples[9000], agg_modern_tuples[9000]))\n",
    "# print(\"{}\\n{}\\n\".format(agg_original_tuples[18000], agg_modern_tuples[18000]))\n"
   ]
  },
  {
   "cell_type": "code",
   "execution_count": 3,
   "metadata": {},
   "outputs": [
    {
     "name": "stdout",
     "output_type": "stream",
     "text": [
      "(42192, 2)\n"
     ]
    }
   ],
   "source": [
    "# in-class = original = '1'\n",
    "# raw -> (raw text, label)\n",
    "import numpy as np\n",
    "\n",
    "style1_np = np.array(agg_original_tuples)\n",
    "style1_labels = np.array(['ori' for x in range(len(agg_original_tuples))])\n",
    "X = np.vstack((style1_np, style1_labels))\n",
    "\n",
    "style2_np = np.array(agg_modern_tuples)\n",
    "style2_labels = np.array(['mod' for x in range(len(agg_modern_tuples))])\n",
    "X2 = np.vstack((style2_np, style2_labels))\n",
    "\n",
    "X = np.hstack((X,X2))\n",
    "raw = np.transpose(X)\n",
    "\n",
    "# idx_col = [str(x) for x in range(len(raw))]\n",
    "# idx_col = np.array(idx_col).reshape(-1,1)\n",
    "# print(idx_col.shape)\n",
    "print(raw.shape)\n",
    "#raw = np.hstack((idx_col, raw))\n",
    "raw.shape\n",
    "raw = np.random.permutation(raw)"
   ]
  },
  {
   "cell_type": "code",
   "execution_count": 4,
   "metadata": {},
   "outputs": [],
   "source": [
    "import pickle\n",
    "\n",
    "def persist_obj(X, name='X_all_plays_1645.pickle'):\n",
    "    with open(name, 'wb') as f:\n",
    "        pickle.dump(X, f, pickle.HIGHEST_PROTOCOL)\n",
    "\n"
   ]
  },
  {
   "cell_type": "code",
   "execution_count": 5,
   "metadata": {
    "scrolled": true
   },
   "outputs": [
    {
     "name": "stderr",
     "output_type": "stream",
     "text": [
      "/Users/peterkong/miniconda3/lib/python3.6/importlib/_bootstrap.py:219: RuntimeWarning: numpy.dtype size changed, may indicate binary incompatibility. Expected 96, got 88\n",
      "  return f(*args, **kwds)\n",
      "/Users/peterkong/miniconda3/lib/python3.6/importlib/_bootstrap.py:219: RuntimeWarning: numpy.ufunc size changed, may indicate binary incompatibility. Expected 192, got 176\n",
      "  return f(*args, **kwds)\n"
     ]
    },
    {
     "name": "stdout",
     "output_type": "stream",
     "text": [
      "But few of any sort, and none of name. gold: ori {'sent_len': 38, 'CCONJ_NOUN_CCONJ_NOUN_NOUN': 1, 'NOUN_count': 3, 'ADV_count': 0, 'VERB_count': 0, 'ADJ_count': 1, 'adv_verb_ratio': 0, 'adj_noun_ratio': 3.0, 'CCONJ_count': 2, 'ADP_count': 2, 'DET_count': 1, 'PUNCT_count': 2, 'colon_count': 0, 'semicolon_count': 0, 'lparen_count': 0, 'ellipse_count': 0, 'quote_count': 0, 'bang_count': 0}\n",
      "\n",
      "Well put, Maecenas. gold: mod {'sent_len': 19, 'VERB': 1, 'NOUN_count': 0, 'ADV_count': 0, 'VERB_count': 1, 'ADJ_count': 0, 'adv_verb_ratio': 0, 'adj_noun_ratio': 0, 'INTJ_count': 1, 'PUNCT_count': 2, 'PROPN_count': 1, 'colon_count': 0, 'semicolon_count': 0, 'lparen_count': 0, 'ellipse_count': 0, 'quote_count': 0, 'bang_count': 0}\n",
      "\n",
      "Night is approaching. gold: mod {'sent_len': 21, 'NOUN_VERB_VERB': 1, 'NOUN_count': 1, 'ADV_count': 0, 'VERB_count': 2, 'ADJ_count': 0, 'adv_verb_ratio': 0, 'adj_noun_ratio': 0, 'PUNCT_count': 1, 'colon_count': 0, 'semicolon_count': 0, 'lparen_count': 0, 'ellipse_count': 0, 'quote_count': 0, 'bang_count': 0}\n",
      "\n",
      "Why, he shall never wake until the great Judgment Day. gold: ori {'sent_len': 54, 'VERB_VERB': 1, 'NOUN_count': 0, 'ADV_count': 2, 'VERB_count': 2, 'ADJ_count': 1, 'adv_verb_ratio': 1.0, 'adj_noun_ratio': 0, 'PUNCT_count': 2, 'PRON_count': 1, 'ADP_count': 1, 'DET_count': 1, 'PROPN_count': 2, 'colon_count': 0, 'semicolon_count': 0, 'lparen_count': 0, 'ellipse_count': 0, 'quote_count': 0, 'bang_count': 0}\n",
      "\n",
      "Get on your way and hire those horses. gold: mod {'sent_len': 38, 'VERB_NOUN_CCONJ_VERB_NOUN': 1, 'NOUN_count': 2, 'ADV_count': 0, 'VERB_count': 2, 'ADJ_count': 1, 'adv_verb_ratio': 0, 'adj_noun_ratio': 2.0, 'ADP_count': 1, 'CCONJ_count': 1, 'DET_count': 1, 'PUNCT_count': 1, 'colon_count': 0, 'semicolon_count': 0, 'lparen_count': 0, 'ellipse_count': 0, 'quote_count': 0, 'bang_count': 0}\n",
      "\n",
      "Come on, shovel. gold: mod {'sent_len': 16, 'VERB': 1, 'NOUN_count': 0, 'ADV_count': 0, 'VERB_count': 1, 'ADJ_count': 1, 'adv_verb_ratio': 0, 'adj_noun_ratio': 0, 'PART_count': 1, 'PUNCT_count': 2, 'colon_count': 0, 'semicolon_count': 0, 'lparen_count': 0, 'ellipse_count': 0, 'quote_count': 0, 'bang_count': 0}\n",
      "\n",
      "No. gold: mod {'sent_len': 3, '': 1, 'NOUN_count': 0, 'ADV_count': 0, 'VERB_count': 0, 'ADJ_count': 0, 'adv_verb_ratio': 0, 'adj_noun_ratio': 0, 'INTJ_count': 1, 'PUNCT_count': 1, 'colon_count': 0, 'semicolon_count': 0, 'lparen_count': 0, 'ellipse_count': 0, 'quote_count': 0, 'bang_count': 0}\n",
      "\n",
      "Whether this be Or be not, I'll not swear. gold: ori {'sent_len': 42, 'VERB_CCONJ_VERB_VERB_VERB': 1, 'NOUN_count': 0, 'ADV_count': 2, 'VERB_count': 4, 'ADJ_count': 0, 'adv_verb_ratio': 2.0, 'adj_noun_ratio': 0, 'ADP_count': 1, 'DET_count': 1, 'CCONJ_count': 1, 'PUNCT_count': 2, 'PRON_count': 1, 'colon_count': 0, 'semicolon_count': 0, 'lparen_count': 0, 'ellipse_count': 0, 'quote_count': 1, 'bang_count': 0}\n",
      "\n",
      "Can't you somehow use your dissatisfaction to your own advantage? gold: mod {'sent_len': 65, 'VERB_VERB_NOUN_NOUN': 1, 'NOUN_count': 2, 'ADV_count': 2, 'VERB_count': 2, 'ADJ_count': 3, 'adv_verb_ratio': 1.0, 'adj_noun_ratio': 0.6666666666666666, 'PRON_count': 1, 'ADP_count': 1, 'PUNCT_count': 1, 'colon_count': 0, 'semicolon_count': 0, 'lparen_count': 0, 'ellipse_count': 0, 'quote_count': 1, 'bang_count': 0}\n",
      "\n",
      "It is, it is. gold: ori {'sent_len': 13, 'VERB_VERB': 1, 'NOUN_count': 0, 'ADV_count': 0, 'VERB_count': 2, 'ADJ_count': 0, 'adv_verb_ratio': 0, 'adj_noun_ratio': 0, 'PRON_count': 2, 'PUNCT_count': 2, 'colon_count': 0, 'semicolon_count': 0, 'lparen_count': 0, 'ellipse_count': 0, 'quote_count': 0, 'bang_count': 0}\n",
      "\n",
      "The rest will comfort, for thy counsel's sound. gold: ori {'sent_len': 47, 'NOUN_VERB_VERB_NOUN_NOUN': 1, 'NOUN_count': 3, 'ADV_count': 0, 'VERB_count': 2, 'ADJ_count': 1, 'adv_verb_ratio': 0, 'adj_noun_ratio': 3.0, 'DET_count': 1, 'PUNCT_count': 2, 'ADP_count': 1, 'PART_count': 1, 'colon_count': 0, 'semicolon_count': 0, 'lparen_count': 0, 'ellipse_count': 0, 'quote_count': 1, 'bang_count': 0}\n",
      "\n",
      "Let it come down. gold: ori {'sent_len': 17, 'VERB_VERB': 1, 'NOUN_count': 0, 'ADV_count': 0, 'VERB_count': 2, 'ADJ_count': 0, 'adv_verb_ratio': 0, 'adj_noun_ratio': 0, 'PRON_count': 1, 'PART_count': 1, 'PUNCT_count': 1, 'colon_count': 0, 'semicolon_count': 0, 'lparen_count': 0, 'ellipse_count': 0, 'quote_count': 0, 'bang_count': 0}\n",
      "\n",
      "Nobody I care about more than myself. gold: mod {'sent_len': 37, 'NOUN_VERB': 1, 'NOUN_count': 1, 'ADV_count': 0, 'VERB_count': 1, 'ADJ_count': 1, 'adv_verb_ratio': 0, 'adj_noun_ratio': 1.0, 'PRON_count': 2, 'ADP_count': 2, 'PUNCT_count': 1, 'colon_count': 0, 'semicolon_count': 0, 'lparen_count': 0, 'ellipse_count': 0, 'quote_count': 0, 'bang_count': 0}\n",
      "\n",
      "That, sir, which I will not report after her. gold: ori {'sent_len': 45, 'NOUN_VERB_VERB': 1, 'NOUN_count': 1, 'ADV_count': 1, 'VERB_count': 2, 'ADJ_count': 1, 'adv_verb_ratio': 2.0, 'adj_noun_ratio': 1.0, 'DET_count': 1, 'PUNCT_count': 3, 'PRON_count': 2, 'ADP_count': 1, 'colon_count': 0, 'semicolon_count': 0, 'lparen_count': 0, 'ellipse_count': 0, 'quote_count': 0, 'bang_count': 0}\n",
      "\n",
      "What is thy name? gold: ori {'sent_len': 17, 'NOUN_VERB_NOUN': 1, 'NOUN_count': 2, 'ADV_count': 0, 'VERB_count': 1, 'ADJ_count': 1, 'adv_verb_ratio': 0, 'adj_noun_ratio': 2.0, 'PUNCT_count': 1, 'colon_count': 0, 'semicolon_count': 0, 'lparen_count': 0, 'ellipse_count': 0, 'quote_count': 0, 'bang_count': 0}\n",
      "\n",
      "So Fulvia told me. gold: ori {'sent_len': 18, 'VERB': 1, 'NOUN_count': 0, 'ADV_count': 1, 'VERB_count': 1, 'ADJ_count': 0, 'adv_verb_ratio': 1.0, 'adj_noun_ratio': 0, 'PROPN_count': 1, 'PRON_count': 1, 'PUNCT_count': 1, 'colon_count': 0, 'semicolon_count': 0, 'lparen_count': 0, 'ellipse_count': 0, 'quote_count': 0, 'bang_count': 0}\n",
      "\n",
      "Isn't it past two o'clock? gold: mod {'sent_len': 26, 'VERB_NOUN': 1, 'NOUN_count': 1, 'ADV_count': 1, 'VERB_count': 1, 'ADJ_count': 0, 'adv_verb_ratio': 1.0, 'adj_noun_ratio': 0, 'PRON_count': 1, 'ADP_count': 1, 'NUM_count': 1, 'PUNCT_count': 1, 'colon_count': 0, 'semicolon_count': 0, 'lparen_count': 0, 'ellipse_count': 0, 'quote_count': 2, 'bang_count': 0}\n",
      "\n",
      "Do, I prithee, but yet have the grace to consider that tears do not become a man. gold: ori {'sent_len': 81, 'VERB_VERB_CCONJ_VERB_NOUN_VERB_NOUN': 1, 'NOUN_count': 3, 'ADV_count': 2, 'VERB_count': 6, 'ADJ_count': 0, 'adv_verb_ratio': 3.0, 'adj_noun_ratio': 0, 'PUNCT_count': 3, 'PRON_count': 1, 'CCONJ_count': 1, 'DET_count': 3, 'PART_count': 1, 'colon_count': 0, 'semicolon_count': 0, 'lparen_count': 0, 'ellipse_count': 0, 'quote_count': 0, 'bang_count': 0}\n",
      "\n",
      "She seemed to be trying to control her emotions, which were overwhelming her. gold: mod {'sent_len': 77, 'VERB_VERB_VERB_VERB_NOUN_VERB_VERB': 1, 'NOUN_count': 1, 'ADV_count': 0, 'VERB_count': 6, 'ADJ_count': 2, 'adv_verb_ratio': 0, 'adj_noun_ratio': 0.5, 'PRON_count': 2, 'PART_count': 2, 'PUNCT_count': 2, 'colon_count': 0, 'semicolon_count': 0, 'lparen_count': 0, 'ellipse_count': 0, 'quote_count': 0, 'bang_count': 0}\n",
      "\n",
      "Isn't she a well-mannered young lady? gold: mod {'sent_len': 37, 'VERB_NOUN': 1, 'NOUN_count': 1, 'ADV_count': 2, 'VERB_count': 1, 'ADJ_count': 2, 'adv_verb_ratio': 0.5, 'adj_noun_ratio': 0.5, 'PRON_count': 1, 'DET_count': 1, 'PUNCT_count': 2, 'colon_count': 0, 'semicolon_count': 0, 'lparen_count': 0, 'ellipse_count': 0, 'quote_count': 1, 'bang_count': 0}\n",
      "\n",
      "I want more uncles here to welcome me. gold: mod {'sent_len': 38, 'VERB_NOUN_VERB': 1, 'NOUN_count': 1, 'ADV_count': 1, 'VERB_count': 2, 'ADJ_count': 1, 'adv_verb_ratio': 2.0, 'adj_noun_ratio': 1.0, 'PRON_count': 2, 'PART_count': 1, 'PUNCT_count': 1, 'colon_count': 0, 'semicolon_count': 0, 'lparen_count': 0, 'ellipse_count': 0, 'quote_count': 0, 'bang_count': 0}\n",
      "\n",
      "The other voice is harsh and abusive. gold: mod {'sent_len': 37, 'NOUN_VERB_CCONJ': 1, 'NOUN_count': 1, 'ADV_count': 0, 'VERB_count': 1, 'ADJ_count': 3, 'adv_verb_ratio': 0, 'adj_noun_ratio': 0.3333333333333333, 'DET_count': 1, 'CCONJ_count': 1, 'PUNCT_count': 1, 'colon_count': 0, 'semicolon_count': 0, 'lparen_count': 0, 'ellipse_count': 0, 'quote_count': 0, 'bang_count': 0}\n",
      "\n",
      "I didn't think you would follow me. gold: mod {'sent_len': 35, 'VERB_VERB_VERB_VERB': 1, 'NOUN_count': 0, 'ADV_count': 1, 'VERB_count': 4, 'ADJ_count': 0, 'adv_verb_ratio': 4.0, 'adj_noun_ratio': 0, 'PRON_count': 3, 'PUNCT_count': 1, 'colon_count': 0, 'semicolon_count': 0, 'lparen_count': 0, 'ellipse_count': 0, 'quote_count': 1, 'bang_count': 0}\n",
      "\n"
     ]
    },
    {
     "name": "stdout",
     "output_type": "stream",
     "text": [
      "But a dream itself is just a shadow. gold: mod {'sent_len': 36, 'CCONJ_NOUN_VERB_NOUN': 1, 'NOUN_count': 2, 'ADV_count': 1, 'VERB_count': 1, 'ADJ_count': 0, 'adv_verb_ratio': 1.0, 'adj_noun_ratio': 0, 'CCONJ_count': 1, 'DET_count': 2, 'PRON_count': 1, 'PUNCT_count': 1, 'colon_count': 0, 'semicolon_count': 0, 'lparen_count': 0, 'ellipse_count': 0, 'quote_count': 0, 'bang_count': 0}\n",
      "\n",
      "To die for adultery? gold: mod {'sent_len': 20, 'VERB_NOUN': 1, 'NOUN_count': 1, 'ADV_count': 0, 'VERB_count': 1, 'ADJ_count': 0, 'adv_verb_ratio': 0, 'adj_noun_ratio': 0, 'PART_count': 1, 'ADP_count': 1, 'PUNCT_count': 1, 'colon_count': 0, 'semicolon_count': 0, 'lparen_count': 0, 'ellipse_count': 0, 'quote_count': 0, 'bang_count': 0}\n",
      "\n",
      "Do you go back dismayed? gold: ori {'sent_len': 24, 'VERB_VERB': 1, 'NOUN_count': 0, 'ADV_count': 1, 'VERB_count': 2, 'ADJ_count': 1, 'adv_verb_ratio': 2.0, 'adj_noun_ratio': 0, 'PRON_count': 1, 'PUNCT_count': 1, 'colon_count': 0, 'semicolon_count': 0, 'lparen_count': 0, 'ellipse_count': 0, 'quote_count': 0, 'bang_count': 0}\n",
      "\n",
      "He no more shall see my face. gold: ori {'sent_len': 29, 'VERB_VERB_NOUN': 1, 'NOUN_count': 1, 'ADV_count': 2, 'VERB_count': 2, 'ADJ_count': 1, 'adv_verb_ratio': 1.0, 'adj_noun_ratio': 1.0, 'PRON_count': 1, 'PUNCT_count': 1, 'colon_count': 0, 'semicolon_count': 0, 'lparen_count': 0, 'ellipse_count': 0, 'quote_count': 0, 'bang_count': 0}\n",
      "\n",
      "Knock, knock, knock! gold: ori {'sent_len': 20, 'VERB_VERB': 1, 'NOUN_count': 0, 'ADV_count': 0, 'VERB_count': 2, 'ADJ_count': 0, 'adv_verb_ratio': 0, 'adj_noun_ratio': 0, 'PROPN_count': 1, 'PUNCT_count': 3, 'colon_count': 0, 'semicolon_count': 0, 'lparen_count': 0, 'ellipse_count': 0, 'quote_count': 0, 'bang_count': 1}\n",
      "\n",
      "Tybalt wanted to kill you, but you killed Tybalt. gold: mod {'sent_len': 49, 'VERB_VERB_CCONJ_VERB': 1, 'NOUN_count': 0, 'ADV_count': 0, 'VERB_count': 3, 'ADJ_count': 0, 'adv_verb_ratio': 0, 'adj_noun_ratio': 0, 'PROPN_count': 2, 'PART_count': 1, 'PRON_count': 2, 'PUNCT_count': 2, 'CCONJ_count': 1, 'colon_count': 0, 'semicolon_count': 0, 'lparen_count': 0, 'ellipse_count': 0, 'quote_count': 0, 'bang_count': 0}\n",
      "\n",
      "So could I, faith, boy, to have the next wish after, That Lucentio indeed had Baptista's youngest daughter. gold: ori {'sent_len': 107, 'CCONJ_VERB_NOUN_NOUN_VERB_NOUN_VERB': 1, 'NOUN_count': 4, 'ADV_count': 1, 'VERB_count': 3, 'ADJ_count': 2, 'adv_verb_ratio': 3.0, 'adj_noun_ratio': 2.0, 'CCONJ_count': 1, 'PRON_count': 1, 'PUNCT_count': 5, 'PART_count': 2, 'DET_count': 1, 'ADP_count': 2, 'PROPN_count': 2, 'colon_count': 0, 'semicolon_count': 0, 'lparen_count': 0, 'ellipse_count': 0, 'quote_count': 1, 'bang_count': 0}\n",
      "\n",
      "Boatswain! gold: ori {'sent_len': 10, '': 1, 'NOUN_count': 0, 'ADV_count': 0, 'VERB_count': 0, 'ADJ_count': 0, 'adv_verb_ratio': 0, 'adj_noun_ratio': 0, 'PROPN_count': 1, 'PUNCT_count': 1, 'colon_count': 0, 'semicolon_count': 0, 'lparen_count': 0, 'ellipse_count': 0, 'quote_count': 0, 'bang_count': 1}\n",
      "\n",
      "Therefore the Dukes of Berri and of Brittany, Of Brabant and of Orleans, shall make forth, And you, Prince Dauphin, with all swift dispatch, To line and new-repair our towns of war With men of courage and with means defendant. gold: ori {'sent_len': 226, 'CCONJ_CCONJ_VERB_VERB_CCONJ_NOUN_NOUN': 1, 'NOUN_count': 9, 'ADV_count': 2, 'VERB_count': 2, 'ADJ_count': 3, 'adv_verb_ratio': 1.0, 'adj_noun_ratio': 3.0, 'DET_count': 2, 'PROPN_count': 7, 'ADP_count': 9, 'CCONJ_count': 5, 'PUNCT_count': 8, 'PRON_count': 1, 'PART_count': 1, 'colon_count': 0, 'semicolon_count': 0, 'lparen_count': 0, 'ellipse_count': 0, 'quote_count': 0, 'bang_count': 0}\n",
      "\n",
      "Hail, King of Scotland! gold: mod {'sent_len': 23, '': 1, 'NOUN_count': 0, 'ADV_count': 0, 'VERB_count': 0, 'ADJ_count': 0, 'adv_verb_ratio': 0, 'adj_noun_ratio': 0, 'PROPN_count': 3, 'PUNCT_count': 2, 'ADP_count': 1, 'colon_count': 0, 'semicolon_count': 0, 'lparen_count': 0, 'ellipse_count': 0, 'quote_count': 0, 'bang_count': 1}\n",
      "\n",
      "I pray you watch about Signior Leonato's door, for the wedding being there tomorrow, there is a great coil tonight. gold: ori {'sent_len': 115, 'VERB_VERB_NOUN_NOUN_VERB_NOUN_VERB': 1, 'NOUN_count': 5, 'ADV_count': 2, 'VERB_count': 4, 'ADJ_count': 1, 'adv_verb_ratio': 2.0, 'adj_noun_ratio': 5.0, 'PRON_count': 2, 'ADP_count': 2, 'PROPN_count': 2, 'PART_count': 1, 'PUNCT_count': 3, 'DET_count': 2, 'colon_count': 0, 'semicolon_count': 0, 'lparen_count': 0, 'ellipse_count': 0, 'quote_count': 1, 'bang_count': 0}\n",
      "\n",
      "I'll wear a big sword in my belt, carry a boar-spear in my hand, and hide all my womanish fear in my heart. gold: mod {'sent_len': 107, 'VERB_VERB_NOUN_NOUN_VERB_NOUN_NOUN': 1, 'NOUN_count': 7, 'ADV_count': 0, 'VERB_count': 4, 'ADJ_count': 7, 'adv_verb_ratio': 0, 'adj_noun_ratio': 1.0, 'PRON_count': 1, 'DET_count': 2, 'ADP_count': 3, 'PUNCT_count': 4, 'CCONJ_count': 1, 'colon_count': 0, 'semicolon_count': 0, 'lparen_count': 0, 'ellipse_count': 0, 'quote_count': 1, 'bang_count': 0}\n",
      "\n",
      "Here's a madman will murder me. gold: ori {'sent_len': 31, 'VERB_NOUN_VERB_VERB': 1, 'NOUN_count': 1, 'ADV_count': 1, 'VERB_count': 3, 'ADJ_count': 0, 'adv_verb_ratio': 3.0, 'adj_noun_ratio': 0, 'DET_count': 1, 'PRON_count': 1, 'PUNCT_count': 1, 'colon_count': 0, 'semicolon_count': 0, 'lparen_count': 0, 'ellipse_count': 0, 'quote_count': 1, 'bang_count': 0}\n",
      "\n",
      "How many things in life seem good to us because of when they happen! gold: mod {'sent_len': 68, 'NOUN_NOUN_VERB_VERB': 1, 'NOUN_count': 2, 'ADV_count': 2, 'VERB_count': 2, 'ADJ_count': 2, 'adv_verb_ratio': 1.0, 'adj_noun_ratio': 1.0, 'ADP_count': 4, 'PRON_count': 2, 'PUNCT_count': 1, 'colon_count': 0, 'semicolon_count': 0, 'lparen_count': 0, 'ellipse_count': 0, 'quote_count': 0, 'bang_count': 1}\n",
      "\n",
      "You can't do that. gold: mod {'sent_len': 18, 'VERB_VERB': 1, 'NOUN_count': 0, 'ADV_count': 1, 'VERB_count': 2, 'ADJ_count': 0, 'adv_verb_ratio': 2.0, 'adj_noun_ratio': 0, 'PRON_count': 1, 'DET_count': 1, 'PUNCT_count': 1, 'colon_count': 0, 'semicolon_count': 0, 'lparen_count': 0, 'ellipse_count': 0, 'quote_count': 1, 'bang_count': 0}\n",
      "\n",
      "I hope you're not trying to cheat me. gold: mod {'sent_len': 37, 'VERB_VERB_VERB_VERB': 1, 'NOUN_count': 0, 'ADV_count': 1, 'VERB_count': 4, 'ADJ_count': 0, 'adv_verb_ratio': 4.0, 'adj_noun_ratio': 0, 'PRON_count': 3, 'PART_count': 1, 'PUNCT_count': 1, 'colon_count': 0, 'semicolon_count': 0, 'lparen_count': 0, 'ellipse_count': 0, 'quote_count': 1, 'bang_count': 0}\n",
      "\n",
      "May a plague strike both your houses. gold: mod {'sent_len': 37, 'VERB_NOUN_NOUN_CCONJ_NOUN': 1, 'NOUN_count': 3, 'ADV_count': 0, 'VERB_count': 1, 'ADJ_count': 1, 'adv_verb_ratio': 0, 'adj_noun_ratio': 3.0, 'DET_count': 1, 'CCONJ_count': 1, 'PUNCT_count': 1, 'colon_count': 0, 'semicolon_count': 0, 'lparen_count': 0, 'ellipse_count': 0, 'quote_count': 0, 'bang_count': 0}\n",
      "\n",
      "Take my remark in whichever sense you like. gold: mod {'sent_len': 43, 'VERB_NOUN_NOUN_VERB': 1, 'NOUN_count': 2, 'ADV_count': 0, 'VERB_count': 2, 'ADJ_count': 2, 'adv_verb_ratio': 0, 'adj_noun_ratio': 1.0, 'ADP_count': 1, 'PRON_count': 1, 'PUNCT_count': 1, 'colon_count': 0, 'semicolon_count': 0, 'lparen_count': 0, 'ellipse_count': 0, 'quote_count': 0, 'bang_count': 0}\n",
      "\n",
      "Go. gold: ori {'sent_len': 3, 'VERB': 1, 'NOUN_count': 0, 'ADV_count': 0, 'VERB_count': 1, 'ADJ_count': 0, 'adv_verb_ratio': 0, 'adj_noun_ratio': 0, 'PUNCT_count': 1, 'colon_count': 0, 'semicolon_count': 0, 'lparen_count': 0, 'ellipse_count': 0, 'quote_count': 0, 'bang_count': 0}\n",
      "\n",
      "So he laughed and let me go. gold: ori {'sent_len': 28, 'VERB_CCONJ_VERB_VERB': 1, 'NOUN_count': 0, 'ADV_count': 1, 'VERB_count': 3, 'ADJ_count': 0, 'adv_verb_ratio': 3.0, 'adj_noun_ratio': 0, 'PRON_count': 2, 'CCONJ_count': 1, 'PUNCT_count': 1, 'colon_count': 0, 'semicolon_count': 0, 'lparen_count': 0, 'ellipse_count': 0, 'quote_count': 0, 'bang_count': 0}\n",
      "\n",
      "(42192, 1645)\n"
     ]
    }
   ],
   "source": [
    "from sklearn.feature_extraction import DictVectorizer\n",
    "import spacy\n",
    "import scipy.sparse\n",
    "nlp = spacy.load('en_core_web_sm')\n",
    "\n",
    "vectorizer = DictVectorizer()\n",
    "features = []\n",
    "\n",
    "#bleu: 0-1, 1 is perfect score\n",
    "#bleu = sentence_bleu([sen2],sen1)\n",
    "\n",
    "raw_text_col = 0\n",
    "LABEL_COL = -1\n",
    "\n",
    "def extract_punc_feats(txt):\n",
    "    punc_dict = {}\n",
    "    punc_data = {'colon':':', 'semicolon': ';', 'lparen':'(',\n",
    "                'ellipse': '...', 'quote': \"'\", 'bang': \"!\"}\n",
    "    \n",
    "    for key in punc_data.keys():\n",
    "        punc_dict[key+'_count'] = txt.count(punc_data[key])\n",
    "        #         if txt.count(punc_data[key]) != 0:\n",
    "        #             print(txt)\n",
    "        \n",
    "    return punc_dict\n",
    "\n",
    "def extract_feats(row_idx, raw):\n",
    "    feature_dict = {}\n",
    "    pos_dict = {'NOUN_count': 0, 'ADV_count': 0, 'VERB_count': 0, \n",
    "                'ADJ_count': 0, 'adv_verb_ratio': 0, 'adj_noun_ratio': 0\n",
    "               }\n",
    "    txt = str(raw[row_idx][raw_text_col])\n",
    "    \n",
    "    feature_dict['sent_len'] = len(txt)\n",
    "    \n",
    "    try:\n",
    "        doc = nlp(txt)\n",
    "    except IndexError as e:\n",
    "        print(e)\n",
    "        print(\"offending message [{}], len: {}, row idx: {}\".format(txt, len(txt), row_idx))\n",
    "        doc = []\n",
    "\n",
    "    pos_sequence = []\n",
    "    for token in doc:\n",
    "        pos = token.pos_\n",
    "        pos_dict[pos+'_count'] = pos_dict.get(pos+'_count', 0) + 1\n",
    "        if pos == 'NOUN' or pos == 'VERB' or pos == 'CCONJ':\n",
    "            pos_sequence.append(pos)\n",
    "            \n",
    "    pos_sequence = pos_sequence[:7] # shortening the num of features to reasonable\n",
    "    pos_sequence_name = \"_\".join(pos_sequence)\n",
    "    feature_dict[pos_sequence_name] = 1\n",
    "\n",
    "\n",
    "    if pos_dict['NOUN_count'] == 0 or pos_dict['ADJ_count'] == 0:\n",
    "        pos_dict['adj_noun_ratio'] = 0\n",
    "    else:\n",
    "        pos_dict['adj_noun_ratio'] = pos_dict['NOUN_count'] / pos_dict['ADJ_count'] \n",
    "\n",
    "    if pos_dict['VERB_count'] == 0 or pos_dict['ADV_count'] == 0:\n",
    "        pos_dict['adv_verb_ratio'] = 0\n",
    "    else:\n",
    "        pos_dict['adv_verb_ratio'] = pos_dict['VERB_count'] / pos_dict['ADV_count'] \n",
    "        \n",
    "    feature_dict.update(pos_dict)\n",
    "    feature_dict.update(extract_punc_feats(txt))\n",
    "    \n",
    "    if row_idx % 1000 == 0:\n",
    "        print(\"{} gold: {} {}\\n\".format(txt, raw[row_idx][LABEL_COL], feature_dict) )\n",
    "     \n",
    "    return feature_dict\n",
    "\n",
    "\n",
    "for row_idx,_ in enumerate(raw):\n",
    "    features.append(extract_feats(row_idx, raw))\n",
    "\n",
    "X = vectorizer.fit_transform(features)\n",
    "print(X.shape)\n",
    "\n",
    "X = X.todense()\n"
   ]
  },
  {
   "cell_type": "code",
   "execution_count": 6,
   "metadata": {},
   "outputs": [
    {
     "data": {
      "text/plain": [
       "(42192, 2)"
      ]
     },
     "execution_count": 6,
     "metadata": {},
     "output_type": "execute_result"
    }
   ],
   "source": [
    "raw.shape"
   ]
  },
  {
   "cell_type": "code",
   "execution_count": 7,
   "metadata": {},
   "outputs": [],
   "source": [
    "persist_obj(raw, 'raw_all_plays_1645.pickle')\n",
    "persist_obj(X, 'X_all_plays_1645.pickle')"
   ]
  },
  {
   "cell_type": "code",
   "execution_count": 9,
   "metadata": {},
   "outputs": [
    {
     "data": {
      "text/plain": [
       "(42192, 1645)"
      ]
     },
     "execution_count": 9,
     "metadata": {},
     "output_type": "execute_result"
    }
   ],
   "source": [
    "import pickle\n",
    "\n",
    "LABEL_COL = -1 \n",
    "\n",
    "with open('raw_all_plays_1645.pickle', 'rb') as f:\n",
    "    raw = pickle.load(f)\n",
    "\n",
    "with open('X_all_plays_1645.pickle', 'rb') as f:\n",
    "    X = pickle.load(f)\n",
    "X.shape\n",
    "\n"
   ]
  },
  {
   "cell_type": "code",
   "execution_count": null,
   "metadata": {},
   "outputs": [],
   "source": [
    " "
   ]
  },
  {
   "cell_type": "code",
   "execution_count": 7,
   "metadata": {},
   "outputs": [
    {
     "name": "stdout",
     "output_type": "stream",
     "text": [
      "10548.0\n",
      "total rows: 42192 train val split delim: 8438 val test split delim: 9493\n"
     ]
    },
    {
     "data": {
      "text/plain": [
       "SVC(C=0.1, cache_size=200, class_weight=None, coef0=0.0,\n",
       "  decision_function_shape='ovr', degree=3, gamma='auto', kernel='linear',\n",
       "  max_iter=-1, probability=False, random_state=None, shrinking=True,\n",
       "  tol=0.001, verbose=False)"
      ]
     },
     "execution_count": 7,
     "metadata": {},
     "output_type": "execute_result"
    }
   ],
   "source": [
    "from sklearn.linear_model import LogisticRegression\n",
    "from sklearn.naive_bayes import MultinomialNB\n",
    "from sklearn import svm\n",
    "import numpy as np\n",
    "np.set_printoptions(suppress=True)\n",
    "\n",
    "import time\n",
    "import math\n",
    "###############\n",
    "# training ####\n",
    "###############\n",
    "\n",
    "\n",
    "n = len(X)*.25\n",
    "print(n)\n",
    "train_val_split_delim = math.floor(n * .8)\n",
    "val_test_split_delim = math.floor(n * .9)\n",
    "end_delim = int(n)\n",
    "\n",
    "\n",
    "print(\"total rows: {} train val split delim: {} val test split delim: {}\".format(len(X), train_val_split_delim, val_test_split_delim))\n",
    "# numpy note: addressing [:delim] is exclusive of delim, but\n",
    "#                         [delim:] is inclusive of delim\n",
    "\n",
    "\n",
    "X_train = X[0:train_val_split_delim]\n",
    "Y_train = raw[0:train_val_split_delim,LABEL_COL]\n",
    "\n",
    "X_val = X[train_val_split_delim:val_test_split_delim]\n",
    "Y_val = raw[train_val_split_delim:val_test_split_delim,LABEL_COL]\n",
    "\n",
    "X_test = X[val_test_split_delim:end_delim]\n",
    "Y_test = raw[val_test_split_delim:end_delim,LABEL_COL]\n",
    "\n",
    "if len(X_test) != len(Y_test):\n",
    "    raise ValueError(\"mismatched arrays! {} {}\".format(len(preds), len(y_true)))\n",
    "\n",
    "\n",
    "#mdl = LogisticRegression(random_state=123)\n",
    "#mdl = MultinomialNB()\n",
    "mdl = svm.SVC(kernel = 'linear', C=.1) # Accuracy: 0.589743\n",
    "    # with all plays: .611\n",
    "mdl.fit(X_train, Y_train)\n",
    "\n",
    "\n"
   ]
  },
  {
   "cell_type": "code",
   "execution_count": 8,
   "metadata": {},
   "outputs": [],
   "source": [
    "# def persist_features(X, name='X_all_plays.pickle'):\n",
    "#     with open(name, 'wb') as f:\n",
    "#         pickle.dump(X, f, pickle.HIGHEST_PROTOCOL)\n",
    "\n",
    "#persist_features(mdl, 'mdl_all_plays_pos_7_gram.pickle')\n",
    "# persist_features(X, 'X_all_plays_pos_gram.pickle')"
   ]
  },
  {
   "cell_type": "code",
   "execution_count": 9,
   "metadata": {},
   "outputs": [
    {
     "name": "stdout",
     "output_type": "stream",
     "text": [
      "val Accuracy: 0.6426540284360189\n",
      "Predictions evaluated: 1055\n",
      "test Accuracy: 0.6180094786729858\n"
     ]
    }
   ],
   "source": [
    "# evaluation ###\n",
    "################\n",
    "#second class is original\n",
    "\n",
    "\n",
    "#y_true = raw[train_val_split_delim:val_test_split_delim,LABEL_COL]\n",
    "val_preds = mdl.predict(X_val)\n",
    "\n",
    "#y_true = [int(raw[int(idx)][-1]) for idx in val_indices]\n",
    "\n",
    "# brier = brier_score_loss(y_true, preds[:,0]) \n",
    "# print(\"brier score:\", brier)\n",
    "\n",
    "#currently slightly worse than randomly permuting preds\n",
    "\n",
    "def accuracy(preds, y_true):\n",
    "    if len(preds) != len(y_true):\n",
    "        raise ValueError(\"mismatched arrays! {} {}\".format(len(preds), len(y_true)))\n",
    "    num_correct = 0\n",
    "    for (x,y) in zip(preds, y_true):\n",
    "        if x == y:\n",
    "            num_correct = num_correct + 1\n",
    "    return num_correct/len(preds)\n",
    "\n",
    "print(\"val Accuracy: {}\".format(accuracy(val_preds,Y_val)))\n",
    "print(\"Predictions evaluated: {}\".format(len(val_preds)))\n",
    "\n",
    "test_preds = mdl.predict(X_test)\n",
    "print(\"test Accuracy: {}\".format(accuracy(test_preds,Y_test)))\n"
   ]
  },
  {
   "cell_type": "code",
   "execution_count": 10,
   "metadata": {},
   "outputs": [
    {
     "ename": "NameError",
     "evalue": "name 'preds' is not defined",
     "output_type": "error",
     "traceback": [
      "\u001b[0;31m---------------------------------------------------------------------------\u001b[0m",
      "\u001b[0;31mNameError\u001b[0m                                 Traceback (most recent call last)",
      "\u001b[0;32m<ipython-input-10-7782233fd202>\u001b[0m in \u001b[0;36m<module>\u001b[0;34m()\u001b[0m\n\u001b[1;32m      7\u001b[0m \u001b[0;32mimport\u001b[0m \u001b[0mitertools\u001b[0m\u001b[0;34m\u001b[0m\u001b[0m\n\u001b[1;32m      8\u001b[0m \u001b[0;34m\u001b[0m\u001b[0m\n\u001b[0;32m----> 9\u001b[0;31m \u001b[0mconf_mat\u001b[0m \u001b[0;34m=\u001b[0m \u001b[0mconfusion_matrix\u001b[0m\u001b[0;34m(\u001b[0m\u001b[0mY_val\u001b[0m\u001b[0;34m,\u001b[0m \u001b[0mpreds\u001b[0m\u001b[0;34m)\u001b[0m\u001b[0;34m\u001b[0m\u001b[0m\n\u001b[0m\u001b[1;32m     10\u001b[0m \u001b[0;31m# fig, ax = plt.subplots(figsize=(10,10))\u001b[0m\u001b[0;34m\u001b[0m\u001b[0;34m\u001b[0m\u001b[0m\n\u001b[1;32m     11\u001b[0m \u001b[0;31m# # sns.heatmap(conf_mat, annot=True, fmt='d',\u001b[0m\u001b[0;34m\u001b[0m\u001b[0;34m\u001b[0m\u001b[0m\n",
      "\u001b[0;31mNameError\u001b[0m: name 'preds' is not defined"
     ]
    }
   ],
   "source": [
    "# error analysis ##\n",
    "##################\n",
    "\n",
    "\n",
    "from sklearn.metrics import confusion_matrix\n",
    "import matplotlib.pyplot as plt\n",
    "import itertools\n",
    "\n",
    "conf_mat = confusion_matrix(Y_val, preds)\n",
    "# fig, ax = plt.subplots(figsize=(10,10))\n",
    "# # sns.heatmap(conf_mat, annot=True, fmt='d',\n",
    "# #             xticklabels=category_id_df.Product.values, yticklabels=category_id_df.Product.values)\n",
    "# plt.ylabel('Actual')\n",
    "# plt.xlabel('Predicted')\n",
    "\n",
    "# NOTE: this function taken from: \n",
    "# http://scikit-learn.org/stable/auto_examples/model_selection/plot_confusion_matrix.html#sphx-glr-auto-examples-model-selection-plot-confusion-matrix-py\n",
    "def plot_confusion_matrix(cm, classes,\n",
    "                          title='Confusion matrix',\n",
    "                          cmap=plt.cm.Blues):\n",
    "\n",
    "    plt.imshow(cm, interpolation='nearest', cmap=cmap)\n",
    "    plt.title(title)\n",
    "    plt.colorbar()\n",
    "    tick_marks = np.arange(len(classes))\n",
    "    plt.xticks(tick_marks, classes, rotation=45)\n",
    "    plt.yticks(tick_marks, classes)\n",
    "\n",
    "    fmt = '.2f'\n",
    "    thresh = 500\n",
    "    for i, j in itertools.product(range(cm.shape[0]), range(cm.shape[1])):\n",
    "        plt.text(j, i, format(cm[i, j], fmt),\n",
    "                 horizontalalignment=\"center\",\n",
    "                 color=\"white\" if cm[i, j] > thresh else \"black\")\n",
    "\n",
    "    plt.tight_layout()\n",
    "    plt.ylabel('True label')\n",
    "    plt.xlabel('Predicted label')\n",
    "\n",
    "\n",
    "plt.figure()\n",
    "print(conf_mat)\n",
    "plot_confusion_matrix(conf_mat, classes=mdl.classes_,\n",
    "                      title=\"Confusion matrix\")\n",
    "plt.show()"
   ]
  },
  {
   "cell_type": "code",
   "execution_count": null,
   "metadata": {},
   "outputs": [],
   "source": [
    "# test_len = len(preds)\n",
    "# accuracy = sum(preds)/float(test_len)\n",
    "# print(\"accuracy: {}\".format(accuracy))\n",
    "\n",
    "#othello accuracy: 0.7428571428571429. but maybe not permuted\n",
    "#all: accuracy: 0.328237942884228\n",
    "\n",
    "#pos, no bleu, 2 plays\n",
    "# Mult NB: .519"
   ]
  },
  {
   "cell_type": "code",
   "execution_count": null,
   "metadata": {},
   "outputs": [],
   "source": [
    "# doc = nlp(u\"a sleep that ends all the heartache\")\n",
    "# # span = doc[doc[4].left_edge.i : doc[4].right_edge.i+1]\n",
    "# # span.merge()\n",
    "# for token in doc:\n",
    "#     print(token.text, token.pos_, token.dep_, token.head.text)"
   ]
  },
  {
   "cell_type": "code",
   "execution_count": null,
   "metadata": {},
   "outputs": [],
   "source": [
    "#raw[:10]"
   ]
  },
  {
   "cell_type": "code",
   "execution_count": null,
   "metadata": {},
   "outputs": [],
   "source": [
    "int(2.1)"
   ]
  },
  {
   "cell_type": "code",
   "execution_count": 11,
   "metadata": {},
   "outputs": [
    {
     "data": {
      "image/png": "[encoded data removed]",
      "text/plain": [
       "<matplotlib.figure.Figure at 0x1a26fc7d30>"
      ]
     },
     "metadata": {},
     "output_type": "display_data"
    }
   ],
   "source": [
    "########################\n",
    "## performance plotting\n",
    "########################\n",
    "\n",
    "# NOTE: plotting code heavily inspired by\n",
    "# matplotlib documentation: https://matplotlib.org/gallery/statistics/barchart_demo.html\n",
    "\n",
    "import numpy as np\n",
    "import matplotlib.pyplot as plt\n",
    "from matplotlib.ticker import MaxNLocator\n",
    "from collections import namedtuple\n",
    "\n",
    "\n",
    "n_groups = 4\n",
    "\n",
    "val_acc = (.643, .607, .613, .610)\n",
    "test_acc = (.618, .617, .614, .616)\n",
    "\n",
    "\n",
    "fig, ax = plt.subplots()\n",
    "\n",
    "index = np.arange(n_groups)\n",
    "bar_width = 0.35\n",
    "\n",
    "opacity = 0.4\n",
    "error_config = {'ecolor': '0.3'}\n",
    "\n",
    "rects1 = ax.bar(index, val_acc, bar_width,\n",
    "                alpha=opacity, color='b',\n",
    "                label='Validation')\n",
    "\n",
    "rects2 = ax.bar(index + bar_width, test_acc, bar_width,\n",
    "                alpha=opacity, color='r',\n",
    "                label='Test')\n",
    "\n",
    "ax.set_xlabel('Rows trained')\n",
    "ax.set_ylabel('Accuracy')\n",
    "ax.set_title('Val/test performance of best model')\n",
    "ax.set_xticks(index + bar_width / 2)\n",
    "ax.set_xticklabels(('8438', '16876', '25315', '33753'))\n",
    "ax.legend()\n",
    "\n",
    "fig.tight_layout()\n",
    "plt.show()"
   ]
  },
  {
   "cell_type": "code",
   "execution_count": null,
   "metadata": {},
   "outputs": [],
   "source": []
  }
 ],
 "metadata": {
  "kernelspec": {
   "display_name": "Python 3",
   "language": "python",
   "name": "python3"
  },
  "language_info": {
   "codemirror_mode": {
    "name": "ipython",
    "version": 3
   },
   "file_extension": ".py",
   "mimetype": "text/x-python",
   "name": "python",
   "nbconvert_exporter": "python",
   "pygments_lexer": "ipython3",
   "version": "3.6.3"
  }
 },
 "nbformat": 4,
 "nbformat_minor": 2
}
