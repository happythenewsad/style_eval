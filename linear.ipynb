{
 "cells": [
  {
   "cell_type": "code",
   "execution_count": 1,
   "metadata": {},
   "outputs": [
    {
     "name": "stderr",
     "output_type": "stream",
     "text": [
      "/Users/peterkong/miniconda3/lib/python3.6/importlib/_bootstrap.py:219: RuntimeWarning: numpy.dtype size changed, may indicate binary incompatibility. Expected 96, got 88\n",
      "  return f(*args, **kwds)\n",
      "/Users/peterkong/miniconda3/lib/python3.6/importlib/_bootstrap.py:219: RuntimeWarning: numpy.dtype size changed, may indicate binary incompatibility. Expected 96, got 88\n",
      "  return f(*args, **kwds)\n",
      "/Users/peterkong/miniconda3/lib/python3.6/importlib/_bootstrap.py:219: RuntimeWarning: numpy.dtype size changed, may indicate binary incompatibility. Expected 96, got 88\n",
      "  return f(*args, **kwds)\n"
     ]
    }
   ],
   "source": [
    "import unidecode\n",
    "from nltk.translate.bleu_score import sentence_bleu\n",
    "import random as rd\n",
    "\n",
    "aligned_othello_style1 = \"data/shakespeare/data/align/plays/merged/othello_modern.snt.aligned\"\n",
    "aligned_othello_style2 = \"data/shakespeare/data/align/plays/merged/othello_original.snt.aligned\"\n",
    "\n",
    "style1_tuples = unidecode.unidecode(open(aligned_style1).read())\n",
    "style2_tuples = unidecode.unidecode(open(aligned_style2).read())\n",
    "\n",
    "style1_tuples = style1_tuples.split(\"\\n\")\n",
    "style2_tuples = style2_tuples.split(\"\\n\")"
   ]
  },
  {
   "cell_type": "code",
   "execution_count": 2,
   "metadata": {},
   "outputs": [
    {
     "data": {
      "text/plain": [
       "\"What's the matter, lieutenant?\""
      ]
     },
     "execution_count": 2,
     "metadata": {},
     "output_type": "execute_result"
    }
   ],
   "source": [
    "style1_tuples[0]"
   ]
  },
  {
   "cell_type": "code",
   "execution_count": 3,
   "metadata": {},
   "outputs": [
    {
     "name": "stdout",
     "output_type": "stream",
     "text": [
      "(3710, 1)\n",
      "(3710, 2)\n"
     ]
    },
    {
     "data": {
      "text/plain": [
       "(3710, 3)"
      ]
     },
     "execution_count": 3,
     "metadata": {},
     "output_type": "execute_result"
    }
   ],
   "source": [
    "# in-class = original = '1'\n",
    "# raw -> (raw text, label)\n",
    "import numpy as np\n",
    "\n",
    "style1_np = np.array(style1_tuples)\n",
    "style1_labels = np.array(['1' for x in range(len(style1_tuples))])\n",
    "X = np.vstack((style1_np, style1_labels))\n",
    "\n",
    "style2_np = np.array(style2_tuples)\n",
    "style2_labels = np.array(['0' for x in range(len(style2_tuples))])\n",
    "X2 = np.vstack((style2_np, style2_labels))\n",
    "\n",
    "X = np.hstack((X,X2))\n",
    "raw = np.transpose(X)\n",
    "raw.shape\n",
    "\n",
    "idx_col = [str(x) for x in range(len(raw))]\n",
    "idx_col = np.array(idx_col).reshape(-1,1)\n",
    "print(idx_col.shape)\n",
    "print(raw.shape)\n",
    "raw = np.hstack((idx_col, raw))\n",
    "raw.shape"
   ]
  },
  {
   "cell_type": "code",
   "execution_count": 4,
   "metadata": {},
   "outputs": [
    {
     "data": {
      "text/plain": [
       "array(['2000', 'She is stirring, sir.', '0'], dtype='<U497')"
      ]
     },
     "execution_count": 4,
     "metadata": {},
     "output_type": "execute_result"
    }
   ],
   "source": [
    "raw[2000]"
   ]
  },
  {
   "cell_type": "code",
   "execution_count": 5,
   "metadata": {},
   "outputs": [
    {
     "name": "stdout",
     "output_type": "stream",
     "text": [
      "[[ 0. 30.  1.]\n",
      " [ 1. 53.  1.]\n",
      " [ 2. 15.  1.]\n",
      " [ 3. 29.  1.]\n",
      " [ 4. 30.  1.]]\n",
      "[[3700.   40.    0.]\n",
      " [3701.   16.    0.]\n",
      " [3702.   21.    0.]\n",
      " [3703.   39.    0.]\n",
      " [3704.   67.    0.]]\n"
     ]
    }
   ],
   "source": [
    "# feature engineering\n",
    "    # construct index column\n",
    "idx_col = raw[:,0]\n",
    "#idx_col.astype(float)\n",
    "\n",
    "    \n",
    "sent_len_feature = np.array([-1 for x in range(len(raw))])\n",
    "raw_text_col = 1\n",
    "LABEL_COL = -1\n",
    "\n",
    "for row_idx,_ in enumerate(raw):\n",
    "    sent_len_feature[row_idx] = len(raw[row_idx][raw_text_col])\n",
    "#     if sent_len_feature[row_idx] < 0:\n",
    "#         print(\"sent len less than zero!\")\n",
    "\n",
    "#sent_len_feature.astype(float)\n",
    "X = np.vstack((idx_col,sent_len_feature, raw[:,LABEL_COL].astype(float)))\n",
    "X = np.transpose(X)\n",
    "X = X.astype('f', copy=True)\n",
    "print(X[0:5])\n",
    "print(X[3700:3705])"
   ]
  },
  {
   "cell_type": "code",
   "execution_count": 11,
   "metadata": {},
   "outputs": [
    {
     "data": {
      "text/plain": [
       "array([2856.,   30.,    0.], dtype=float32)"
      ]
     },
     "execution_count": 11,
     "metadata": {},
     "output_type": "execute_result"
    }
   ],
   "source": [
    "X[0]"
   ]
  },
  {
   "cell_type": "code",
   "execution_count": 18,
   "metadata": {},
   "outputs": [
    {
     "name": "stdout",
     "output_type": "stream",
     "text": [
      "[[2856.   30.    0.]\n",
      " [1862.   25.    0.]\n",
      " [  89.   66.    1.]\n",
      " [2752.   70.    0.]\n",
      " [1162.   20.    1.]\n",
      " [1693.   23.    1.]\n",
      " [3417.   97.    0.]\n",
      " [3203.   22.    0.]\n",
      " [1246.  130.    1.]\n",
      " [1160.    9.    1.]]\n"
     ]
    },
    {
     "data": {
      "text/plain": [
       "array([[30.],\n",
       "       [25.]], dtype=float32)"
      ]
     },
     "execution_count": 18,
     "metadata": {},
     "output_type": "execute_result"
    }
   ],
   "source": [
    "from sklearn.linear_model import LogisticRegression\n",
    "import time\n",
    "# training\n",
    "# test breakout: 3500, 210\n",
    "train_test_split_delim = 3500\n",
    "\n",
    "# numpy note: addressing [:delim] is exclusive of delim, but\n",
    "#                         [delim:] is inclusive of delim\n",
    "\n",
    "np.random.permutation(X)\n",
    "print(X[0:10])\n",
    "\n",
    "X_train = X[0:train_test_split_delim,1]\n",
    "X_train = X_train.reshape(-1, 1) #TODO: REMOVE\n",
    "Y_train = X[0:train_test_split_delim,LABEL_COL]\n",
    "\n",
    "X_test = X[train_test_split_delim:,1]\n",
    "X_test = X_test.reshape(-1, 1)\n",
    "Y_test = X[train_test_split_delim:,LABEL_COL]\n",
    "\n",
    "\n",
    "logreg = LogisticRegression(random_state=123)\n",
    "logreg.fit(X_train, Y_train)\n",
    "X_train[:2]"
   ]
  },
  {
   "cell_type": "code",
   "execution_count": 28,
   "metadata": {},
   "outputs": [
    {
     "name": "stdout",
     "output_type": "stream",
     "text": [
      "int'd idx: 1132 gold label: 1 pred label: 1\n",
      "int'd idx: 2769 gold label: 0 pred label: 0\n",
      "int'd idx: 435 gold label: 1 pred label: 0\n",
      "int'd idx: 3625 gold label: 0 pred label: 1\n",
      "int'd idx: 1248 gold label: 1 pred label: 1\n",
      "int'd idx: 3467 gold label: 0 pred label: 1\n",
      "int'd idx: 3369 gold label: 0 pred label: 0\n",
      "int'd idx: 3278 gold label: 0 pred label: 1\n",
      "int'd idx: 1651 gold label: 1 pred label: 0\n",
      "int'd idx: 2345 gold label: 0 pred label: 1\n",
      "int'd idx: 2661 gold label: 0 pred label: 0\n",
      "int'd idx: 1374 gold label: 1 pred label: 0\n",
      "int'd idx: 31 gold label: 1 pred label: 1\n",
      "int'd idx: 3000 gold label: 0 pred label: 1\n",
      "int'd idx: 3303 gold label: 0 pred label: 0\n",
      "int'd idx: 2861 gold label: 0 pred label: 0\n",
      "int'd idx: 707 gold label: 1 pred label: 1\n",
      "int'd idx: 1303 gold label: 1 pred label: 1\n",
      "int'd idx: 3503 gold label: 0 pred label: 1\n",
      "int'd idx: 2248 gold label: 0 pred label: 1\n",
      "int'd idx: 484 gold label: 1 pred label: 1\n",
      "int'd idx: 2438 gold label: 0 pred label: 1\n",
      "int'd idx: 1082 gold label: 1 pred label: 1\n",
      "int'd idx: 3478 gold label: 0 pred label: 1\n",
      "int'd idx: 1930 gold label: 0 pred label: 1\n",
      "int'd idx: 1636 gold label: 1 pred label: 1\n",
      "int'd idx: 1757 gold label: 1 pred label: 0\n",
      "int'd idx: 2761 gold label: 0 pred label: 1\n",
      "int'd idx: 2958 gold label: 0 pred label: 1\n",
      "int'd idx: 2818 gold label: 0 pred label: 0\n",
      "int'd idx: 2627 gold label: 0 pred label: 1\n",
      "int'd idx: 2445 gold label: 0 pred label: 1\n",
      "int'd idx: 3269 gold label: 0 pred label: 1\n",
      "int'd idx: 2286 gold label: 0 pred label: 1\n",
      "int'd idx: 467 gold label: 1 pred label: 0\n",
      "int'd idx: 3638 gold label: 0 pred label: 1\n",
      "int'd idx: 3058 gold label: 0 pred label: 1\n",
      "int'd idx: 1767 gold label: 1 pred label: 1\n",
      "int'd idx: 2355 gold label: 0 pred label: 1\n",
      "int'd idx: 2108 gold label: 0 pred label: 1\n",
      "int'd idx: 2881 gold label: 0 pred label: 1\n",
      "int'd idx: 3002 gold label: 0 pred label: 1\n",
      "int'd idx: 601 gold label: 1 pred label: 0\n",
      "int'd idx: 2034 gold label: 0 pred label: 1\n",
      "int'd idx: 3376 gold label: 0 pred label: 1\n",
      "int'd idx: 53 gold label: 1 pred label: 1\n",
      "int'd idx: 649 gold label: 1 pred label: 0\n",
      "int'd idx: 494 gold label: 1 pred label: 1\n",
      "int'd idx: 3219 gold label: 0 pred label: 1\n",
      "int'd idx: 1943 gold label: 0 pred label: 0\n",
      "int'd idx: 2453 gold label: 0 pred label: 0\n",
      "int'd idx: 1883 gold label: 0 pred label: 1\n",
      "int'd idx: 2326 gold label: 0 pred label: 0\n",
      "int'd idx: 3325 gold label: 0 pred label: 1\n",
      "int'd idx: 1182 gold label: 1 pred label: 0\n",
      "int'd idx: 3355 gold label: 0 pred label: 1\n",
      "int'd idx: 2305 gold label: 0 pred label: 1\n",
      "int'd idx: 3607 gold label: 0 pred label: 1\n",
      "int'd idx: 2520 gold label: 0 pred label: 1\n",
      "int'd idx: 1671 gold label: 1 pred label: 0\n",
      "int'd idx: 1986 gold label: 0 pred label: 1\n",
      "int'd idx: 62 gold label: 1 pred label: 1\n",
      "int'd idx: 58 gold label: 1 pred label: 1\n",
      "int'd idx: 2875 gold label: 0 pred label: 1\n",
      "int'd idx: 71 gold label: 1 pred label: 1\n",
      "int'd idx: 3668 gold label: 0 pred label: 1\n",
      "int'd idx: 275 gold label: 1 pred label: 1\n",
      "int'd idx: 3260 gold label: 0 pred label: 1\n",
      "int'd idx: 501 gold label: 1 pred label: 1\n",
      "int'd idx: 1499 gold label: 1 pred label: 1\n",
      "int'd idx: 1124 gold label: 1 pred label: 1\n",
      "int'd idx: 2988 gold label: 0 pred label: 1\n",
      "int'd idx: 1169 gold label: 1 pred label: 1\n",
      "int'd idx: 622 gold label: 1 pred label: 1\n",
      "int'd idx: 194 gold label: 1 pred label: 1\n",
      "int'd idx: 2246 gold label: 0 pred label: 0\n",
      "int'd idx: 0 gold label: 1 pred label: 1\n",
      "int'd idx: 2472 gold label: 0 pred label: 0\n",
      "int'd idx: 961 gold label: 1 pred label: 1\n",
      "int'd idx: 1122 gold label: 1 pred label: 1\n",
      "int'd idx: 1734 gold label: 1 pred label: 1\n",
      "int'd idx: 1929 gold label: 0 pred label: 1\n",
      "int'd idx: 2450 gold label: 0 pred label: 1\n",
      "int'd idx: 3422 gold label: 0 pred label: 1\n",
      "int'd idx: 1091 gold label: 1 pred label: 1\n",
      "int'd idx: 1814 gold label: 1 pred label: 1\n",
      "int'd idx: 1458 gold label: 1 pred label: 0\n",
      "int'd idx: 1911 gold label: 0 pred label: 1\n",
      "int'd idx: 2734 gold label: 0 pred label: 1\n",
      "int'd idx: 2328 gold label: 0 pred label: 1\n",
      "int'd idx: 2864 gold label: 0 pred label: 0\n",
      "int'd idx: 2066 gold label: 0 pred label: 1\n",
      "int'd idx: 2335 gold label: 0 pred label: 0\n",
      "int'd idx: 1301 gold label: 1 pred label: 1\n",
      "int'd idx: 1012 gold label: 1 pred label: 0\n",
      "int'd idx: 837 gold label: 1 pred label: 1\n",
      "int'd idx: 3702 gold label: 0 pred label: 1\n",
      "int'd idx: 2160 gold label: 0 pred label: 1\n",
      "int'd idx: 2892 gold label: 0 pred label: 1\n",
      "int'd idx: 3361 gold label: 0 pred label: 0\n",
      "int'd idx: 2533 gold label: 0 pred label: 1\n",
      "int'd idx: 918 gold label: 1 pred label: 1\n",
      "int'd idx: 2645 gold label: 0 pred label: 0\n",
      "int'd idx: 2953 gold label: 0 pred label: 1\n",
      "int'd idx: 126 gold label: 1 pred label: 1\n",
      "int'd idx: 3201 gold label: 0 pred label: 1\n",
      "int'd idx: 3343 gold label: 0 pred label: 1\n",
      "int'd idx: 2096 gold label: 0 pred label: 1\n",
      "int'd idx: 354 gold label: 1 pred label: 1\n",
      "int'd idx: 1137 gold label: 1 pred label: 1\n",
      "int'd idx: 834 gold label: 1 pred label: 1\n",
      "int'd idx: 1901 gold label: 0 pred label: 1\n",
      "int'd idx: 886 gold label: 1 pred label: 1\n",
      "int'd idx: 289 gold label: 1 pred label: 1\n",
      "int'd idx: 2716 gold label: 0 pred label: 1\n",
      "int'd idx: 2959 gold label: 0 pred label: 1\n",
      "int'd idx: 1250 gold label: 1 pred label: 1\n",
      "int'd idx: 2999 gold label: 0 pred label: 1\n",
      "int'd idx: 2095 gold label: 0 pred label: 1\n",
      "int'd idx: 3249 gold label: 0 pred label: 1\n",
      "int'd idx: 2176 gold label: 0 pred label: 0\n",
      "int'd idx: 2255 gold label: 0 pred label: 1\n",
      "int'd idx: 1116 gold label: 1 pred label: 1\n",
      "int'd idx: 2979 gold label: 0 pred label: 1\n",
      "int'd idx: 1340 gold label: 1 pred label: 1\n",
      "int'd idx: 1602 gold label: 1 pred label: 0\n",
      "int'd idx: 710 gold label: 1 pred label: 1\n",
      "int'd idx: 2440 gold label: 0 pred label: 0\n",
      "int'd idx: 2507 gold label: 0 pred label: 1\n",
      "int'd idx: 1793 gold label: 1 pred label: 1\n",
      "int'd idx: 349 gold label: 1 pred label: 1\n",
      "int'd idx: 2127 gold label: 0 pred label: 0\n",
      "int'd idx: 1398 gold label: 1 pred label: 1\n",
      "int'd idx: 2832 gold label: 0 pred label: 1\n",
      "int'd idx: 301 gold label: 1 pred label: 0\n",
      "int'd idx: 2995 gold label: 0 pred label: 1\n",
      "int'd idx: 2903 gold label: 0 pred label: 1\n",
      "int'd idx: 1407 gold label: 1 pred label: 0\n",
      "int'd idx: 2541 gold label: 0 pred label: 0\n",
      "int'd idx: 1899 gold label: 0 pred label: 0\n",
      "int'd idx: 2256 gold label: 0 pred label: 1\n",
      "int'd idx: 2422 gold label: 0 pred label: 1\n",
      "int'd idx: 402 gold label: 1 pred label: 0\n",
      "int'd idx: 2898 gold label: 0 pred label: 1\n",
      "int'd idx: 3185 gold label: 0 pred label: 1\n",
      "int'd idx: 2828 gold label: 0 pred label: 1\n",
      "int'd idx: 2412 gold label: 0 pred label: 1\n",
      "int'd idx: 2041 gold label: 0 pred label: 1\n",
      "int'd idx: 3038 gold label: 0 pred label: 1\n",
      "int'd idx: 946 gold label: 1 pred label: 1\n",
      "int'd idx: 3535 gold label: 0 pred label: 1\n",
      "int'd idx: 3224 gold label: 0 pred label: 1\n",
      "int'd idx: 790 gold label: 1 pred label: 0\n",
      "int'd idx: 1792 gold label: 1 pred label: 1\n",
      "int'd idx: 2470 gold label: 0 pred label: 1\n",
      "int'd idx: 1517 gold label: 1 pred label: 1\n",
      "int'd idx: 665 gold label: 1 pred label: 1\n",
      "int'd idx: 2496 gold label: 0 pred label: 0\n",
      "int'd idx: 1522 gold label: 1 pred label: 0\n",
      "int'd idx: 2825 gold label: 0 pred label: 1\n",
      "int'd idx: 2698 gold label: 0 pred label: 1\n",
      "int'd idx: 2236 gold label: 0 pred label: 0\n",
      "int'd idx: 3358 gold label: 0 pred label: 0\n",
      "int'd idx: 381 gold label: 1 pred label: 0\n",
      "int'd idx: 1039 gold label: 1 pred label: 1\n",
      "int'd idx: 1663 gold label: 1 pred label: 1\n",
      "int'd idx: 1724 gold label: 1 pred label: 1\n",
      "int'd idx: 3412 gold label: 0 pred label: 1\n",
      "int'd idx: 141 gold label: 1 pred label: 1\n",
      "int'd idx: 3266 gold label: 0 pred label: 1\n",
      "int'd idx: 2867 gold label: 0 pred label: 0\n",
      "int'd idx: 1179 gold label: 1 pred label: 1\n",
      "int'd idx: 2888 gold label: 0 pred label: 1\n",
      "int'd idx: 2611 gold label: 0 pred label: 1\n",
      "int'd idx: 2121 gold label: 0 pred label: 0\n",
      "int'd idx: 1175 gold label: 1 pred label: 1\n",
      "int'd idx: 2184 gold label: 0 pred label: 0\n",
      "int'd idx: 775 gold label: 1 pred label: 0\n",
      "int'd idx: 295 gold label: 1 pred label: 1\n",
      "int'd idx: 3257 gold label: 0 pred label: 1\n",
      "int'd idx: 1275 gold label: 1 pred label: 0\n",
      "int'd idx: 3093 gold label: 0 pred label: 1\n",
      "int'd idx: 2205 gold label: 0 pred label: 0\n",
      "int'd idx: 367 gold label: 1 pred label: 1\n",
      "int'd idx: 2517 gold label: 0 pred label: 1\n",
      "int'd idx: 1820 gold label: 1 pred label: 1\n",
      "int'd idx: 997 gold label: 1 pred label: 1\n",
      "int'd idx: 3398 gold label: 0 pred label: 0\n",
      "int'd idx: 323 gold label: 1 pred label: 1\n",
      "int'd idx: 2285 gold label: 0 pred label: 1\n",
      "int'd idx: 2815 gold label: 0 pred label: 0\n",
      "int'd idx: 727 gold label: 1 pred label: 1\n",
      "int'd idx: 2429 gold label: 0 pred label: 1\n",
      "int'd idx: 2436 gold label: 0 pred label: 0\n",
      "int'd idx: 1291 gold label: 1 pred label: 1\n",
      "int'd idx: 3297 gold label: 0 pred label: 0\n",
      "int'd idx: 2278 gold label: 0 pred label: 1\n",
      "int'd idx: 3686 gold label: 0 pred label: 1\n",
      "int'd idx: 1756 gold label: 1 pred label: 1\n",
      "int'd idx: 3626 gold label: 0 pred label: 1\n",
      "int'd idx: 437 gold label: 1 pred label: 0\n",
      "int'd idx: 788 gold label: 1 pred label: 1\n",
      "int'd idx: 3045 gold label: 0 pred label: 0\n",
      "int'd idx: 2775 gold label: 0 pred label: 1\n",
      "int'd idx: 1810 gold label: 1 pred label: 1\n",
      "int'd idx: 148 gold label: 1 pred label: 1\n",
      "int'd idx: 1763 gold label: 1 pred label: 1\n",
      "int'd idx: 3392 gold label: 0 pred label: 0\n",
      "int'd idx: 3192 gold label: 0 pred label: 1\n",
      "int'd idx: 1430 gold label: 1 pred label: 1\n"
     ]
    }
   ],
   "source": [
    "# evaluation\n",
    "preds = logreg.predict(X_test)\n",
    "test_indices = X[train_test_split_delim:,0]\n",
    "if len(preds) != len(test_indices):\n",
    "    raise ValueError(\"unmatched arrays\")\n",
    "    \n",
    "results = []\n",
    "for (idx, pred) in zip(test_indices,preds):\n",
    "    gold_label = int(raw[int(idx)][-1])\n",
    "    pred_label = int(pred)\n",
    "    #print(\"int'd idx: {} gold label: {} pred label: {}\".format(int(idx), gold_label, pred_label))\n",
    "    \n",
    "    if gold_label == pred_label:\n",
    "          results.append(1)\n",
    "    else:\n",
    "        results.append(0)\n",
    "    \n",
    "results[:5]\n",
    "\n",
    "\n",
    "    "
   ]
  },
  {
   "cell_type": "code",
   "execution_count": 31,
   "metadata": {},
   "outputs": [
    {
     "name": "stdout",
     "output_type": "stream",
     "text": [
      "accuracy: 0.7428571428571429\n"
     ]
    }
   ],
   "source": [
    "test_len = len(preds)\n",
    "accuracy = sum(preds)/float(test_len)\n",
    "print(\"accuracy: {}\".format(accuracy))"
   ]
  },
  {
   "cell_type": "code",
   "execution_count": 106,
   "metadata": {},
   "outputs": [],
   "source": [
    "#x = np.zeros(3, dtype=[('row_id','int32'),('text', 'S'), ('label', 'int32')])"
   ]
  },
  {
   "cell_type": "code",
   "execution_count": null,
   "metadata": {},
   "outputs": [],
   "source": []
  },
  {
   "cell_type": "code",
   "execution_count": null,
   "metadata": {},
   "outputs": [],
   "source": []
  },
  {
   "cell_type": "code",
   "execution_count": null,
   "metadata": {},
   "outputs": [],
   "source": []
  },
  {
   "cell_type": "code",
   "execution_count": null,
   "metadata": {},
   "outputs": [],
   "source": []
  },
  {
   "cell_type": "code",
   "execution_count": null,
   "metadata": {},
   "outputs": [],
   "source": []
  },
  {
   "cell_type": "code",
   "execution_count": null,
   "metadata": {},
   "outputs": [],
   "source": []
  },
  {
   "cell_type": "code",
   "execution_count": null,
   "metadata": {},
   "outputs": [],
   "source": []
  },
  {
   "cell_type": "code",
   "execution_count": 16,
   "metadata": {},
   "outputs": [
    {
     "data": {
      "text/plain": [
       "array([[3702.,   53.,    1.],\n",
       "       [3701.,   30.,    1.],\n",
       "       [3703.,   15.,    1.]])"
      ]
     },
     "execution_count": 16,
     "metadata": {},
     "output_type": "execute_result"
    }
   ],
   "source": [
    "np.set_printoptions(suppress=True)\n",
    "\n",
    "py_arr = [[  3701.,  30.,   1.]\n",
    " ,[  3702.,  53.,   1.]\n",
    " ,[  3703.,  15.,   1.]]\n",
    "\n",
    "\n",
    "arr = np.array(py_arr)\n",
    "arr = arr.astype(float)\n",
    "np.random.shuffle(arr)\n",
    "time.sleep(1)\n",
    "arr[:3]"
   ]
  },
  {
   "cell_type": "code",
   "execution_count": 14,
   "metadata": {},
   "outputs": [
    {
     "data": {
      "text/plain": [
       "dtype('float64')"
      ]
     },
     "execution_count": 14,
     "metadata": {},
     "output_type": "execute_result"
    }
   ],
   "source": [
    "arr.dtype"
   ]
  },
  {
   "cell_type": "code",
   "execution_count": 25,
   "metadata": {},
   "outputs": [
    {
     "data": {
      "text/plain": [
       "'/Users/peterkong/miniconda3/bin/python'"
      ]
     },
     "execution_count": 25,
     "metadata": {},
     "output_type": "execute_result"
    }
   ],
   "source": [
    "import sys\n",
    "sys.executable"
   ]
  },
  {
   "cell_type": "code",
   "execution_count": null,
   "metadata": {},
   "outputs": [],
   "source": []
  }
 ],
 "metadata": {
  "kernelspec": {
   "display_name": "Python 3",
   "language": "python",
   "name": "python3"
  },
  "language_info": {
   "codemirror_mode": {
    "name": "ipython",
    "version": 3
   },
   "file_extension": ".py",
   "mimetype": "text/x-python",
   "name": "python",
   "nbconvert_exporter": "python",
   "pygments_lexer": "ipython3",
   "version": "3.6.3"
  }
 },
 "nbformat": 4,
 "nbformat_minor": 2
}
