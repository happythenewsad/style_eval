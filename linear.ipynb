{
 "cells": [
  {
   "cell_type": "code",
   "execution_count": 1,
   "metadata": {},
   "outputs": [],
   "source": [
    "import unidecode\n",
    "from nltk.translate.bleu_score import sentence_bleu\n",
    "import random as rd\n",
    "\n",
    "play_file_infixes = ['othello', 'antony-and-cleopatra', 'asyoulikeit', \n",
    "                     'errors', 'hamlet', 'henryv', 'juliuscaesar', 'lear', 'macbeth', \n",
    "                     'merchant', 'msnd', 'muchado', 'richardiii', 'romeojuliet', \n",
    "                     'shrew', 'tempest', 'twelfthnight']\n",
    "#play_file_infixes = ['othello', 'henryv']\n",
    "\n",
    "agg_original_tuples = []\n",
    "agg_modern_tuples = []\n",
    "path = \"data/shakespeare/data/align/plays/merged/\"\n",
    "\n",
    "for infix in play_file_infixes:\n",
    "    modern_tuples = unidecode.unidecode(open(path + infix + \"_modern.snt.aligned\").read()).split(\"\\n\")\n",
    "    original_tuples = unidecode.unidecode(open(path + infix + \"_original.snt.aligned\").read()).split(\"\\n\")\n",
    "    agg_original_tuples.extend(original_tuples)\n",
    "    agg_modern_tuples.extend(modern_tuples)"
   ]
  },
  {
   "cell_type": "code",
   "execution_count": 2,
   "metadata": {},
   "outputs": [
    {
     "name": "stdout",
     "output_type": "stream",
     "text": [
      "What's the matter, lieutenant?\n",
      "What's the matter, lieutenant?\n",
      "\n"
     ]
    }
   ],
   "source": [
    "print(\"{}\\n{}\\n\".format(agg_original_tuples[0], agg_modern_tuples[0]))\n",
    "#print(\"{}\\n{}\\n\".format(agg_original_tuples[5000], agg_modern_tuples[5000]))\n",
    "# print(\"{}\\n{}\\n\".format(agg_original_tuples[9000], agg_modern_tuples[9000]))\n",
    "# print(\"{}\\n{}\\n\".format(agg_original_tuples[18000], agg_modern_tuples[18000]))\n"
   ]
  },
  {
   "cell_type": "code",
   "execution_count": 3,
   "metadata": {},
   "outputs": [
    {
     "name": "stdout",
     "output_type": "stream",
     "text": [
      "(42192, 2)\n"
     ]
    }
   ],
   "source": [
    "# in-class = original = '1'\n",
    "# raw -> (raw text, label)\n",
    "import numpy as np\n",
    "\n",
    "style1_np = np.array(agg_original_tuples)\n",
    "style1_labels = np.array(['ori' for x in range(len(agg_original_tuples))])\n",
    "X = np.vstack((style1_np, style1_labels))\n",
    "\n",
    "style2_np = np.array(agg_modern_tuples)\n",
    "style2_labels = np.array(['mod' for x in range(len(agg_modern_tuples))])\n",
    "X2 = np.vstack((style2_np, style2_labels))\n",
    "\n",
    "X = np.hstack((X,X2))\n",
    "raw = np.transpose(X)\n",
    "\n",
    "# idx_col = [str(x) for x in range(len(raw))]\n",
    "# idx_col = np.array(idx_col).reshape(-1,1)\n",
    "# print(idx_col.shape)\n",
    "print(raw.shape)\n",
    "#raw = np.hstack((idx_col, raw))\n",
    "raw.shape\n",
    "raw = np.random.permutation(raw)"
   ]
  },
  {
   "cell_type": "code",
   "execution_count": 4,
   "metadata": {},
   "outputs": [],
   "source": [
    "import pickle\n",
    "\n",
    "def persist_obj(X, name='X_all_plays_1645.pickle'):\n",
    "    with open(name, 'wb') as f:\n",
    "        pickle.dump(X, f, pickle.HIGHEST_PROTOCOL)\n",
    "\n"
   ]
  },
  {
   "cell_type": "code",
   "execution_count": 5,
   "metadata": {
    "scrolled": true
   },
   "outputs": [
    {
     "name": "stderr",
     "output_type": "stream",
     "text": [
      "/anaconda3/lib/python3.6/importlib/_bootstrap.py:219: RuntimeWarning: numpy.dtype size changed, may indicate binary incompatibility. Expected 96, got 88\n",
      "  return f(*args, **kwds)\n",
      "/anaconda3/lib/python3.6/importlib/_bootstrap.py:219: RuntimeWarning: numpy.ufunc size changed, may indicate binary incompatibility. Expected 192, got 176\n",
      "  return f(*args, **kwds)\n",
      "/anaconda3/lib/python3.6/importlib/_bootstrap.py:219: RuntimeWarning: numpy.dtype size changed, may indicate binary incompatibility. Expected 96, got 88\n",
      "  return f(*args, **kwds)\n",
      "/anaconda3/lib/python3.6/importlib/_bootstrap.py:219: RuntimeWarning: numpy.ufunc size changed, may indicate binary incompatibility. Expected 192, got 176\n",
      "  return f(*args, **kwds)\n"
     ]
    },
    {
     "name": "stdout",
     "output_type": "stream",
     "text": [
      "You are welcome, sir. gold: ori {'sent_len': 21, 'VERB_NOUN': 1, 'NOUN_count': 1, 'ADV_count': 0, 'VERB_count': 1, 'ADJ_count': 1, 'adv_verb_ratio': 0, 'adj_noun_ratio': 1.0, 'PRON_count': 1, 'PUNCT_count': 2, 'colon_count': 0, 'semicolon_count': 0, 'lparen_count': 0, 'ellipse_count': 0, 'quote_count': 0, 'bang_count': 0}\n",
      "\n",
      "list index out of range\n",
      "offending message [], len: 0, row idx: 594\n",
      "As I slept under this yew-tree here, I had a dream that my master and someone else were fighting and that my master killed him. gold: mod {'sent_len': 127, 'VERB_NOUN_NOUN_VERB_NOUN_NOUN_CCONJ': 1, 'NOUN_count': 6, 'ADV_count': 2, 'VERB_count': 5, 'ADJ_count': 2, 'adv_verb_ratio': 2.5, 'adj_noun_ratio': 3.0, 'ADP_count': 4, 'PRON_count': 3, 'DET_count': 2, 'PUNCT_count': 3, 'CCONJ_count': 2, 'colon_count': 0, 'semicolon_count': 0, 'lparen_count': 0, 'ellipse_count': 0, 'quote_count': 0, 'bang_count': 0}\n",
      "\n",
      "I meddle with no tradesman's matters nor women's matters, but withal I am indeed, sir, a surgeon to old shoes. gold: ori {'sent_len': 110, 'VERB_NOUN_NOUN_CCONJ_NOUN_NOUN_CCONJ': 1, 'NOUN_count': 7, 'ADV_count': 1, 'VERB_count': 2, 'ADJ_count': 2, 'adv_verb_ratio': 2.0, 'adj_noun_ratio': 3.5, 'PRON_count': 2, 'ADP_count': 2, 'DET_count': 2, 'PART_count': 2, 'CCONJ_count': 2, 'PUNCT_count': 4, 'colon_count': 0, 'semicolon_count': 0, 'lparen_count': 0, 'ellipse_count': 0, 'quote_count': 2, 'bang_count': 0}\n",
      "\n",
      "O, my fair cousin, I must not say so. gold: ori {'sent_len': 37, 'NOUN_VERB_VERB': 1, 'NOUN_count': 1, 'ADV_count': 2, 'VERB_count': 2, 'ADJ_count': 2, 'adv_verb_ratio': 1.0, 'adj_noun_ratio': 0.5, 'INTJ_count': 1, 'PUNCT_count': 3, 'PRON_count': 1, 'colon_count': 0, 'semicolon_count': 0, 'lparen_count': 0, 'ellipse_count': 0, 'quote_count': 0, 'bang_count': 0}\n",
      "\n",
      "What handkerchief? gold: mod {'sent_len': 18, 'NOUN': 1, 'NOUN_count': 1, 'ADV_count': 0, 'VERB_count': 0, 'ADJ_count': 1, 'adv_verb_ratio': 0, 'adj_noun_ratio': 1.0, 'PUNCT_count': 1, 'colon_count': 0, 'semicolon_count': 0, 'lparen_count': 0, 'ellipse_count': 0, 'quote_count': 0, 'bang_count': 0}\n",
      "\n",
      "Come talk to me tomorrow as early as you can.--Come with me, my dear love. gold: mod {'sent_len': 74, 'VERB_VERB_NOUN_VERB_VERB_NOUN': 1, 'NOUN_count': 2, 'ADV_count': 2, 'VERB_count': 4, 'ADJ_count': 2, 'adv_verb_ratio': 2.0, 'adj_noun_ratio': 1.0, 'ADP_count': 3, 'PRON_count': 3, 'PUNCT_count': 3, 'colon_count': 0, 'semicolon_count': 0, 'lparen_count': 0, 'ellipse_count': 0, 'quote_count': 0, 'bang_count': 0}\n",
      "\n",
      "I cannot wish the fault undone, the issue of it being so proper. gold: ori {'sent_len': 64, 'VERB_VERB_NOUN_VERB_NOUN_VERB': 1, 'NOUN_count': 2, 'ADV_count': 2, 'VERB_count': 4, 'ADJ_count': 1, 'adv_verb_ratio': 2.0, 'adj_noun_ratio': 2.0, 'PRON_count': 2, 'DET_count': 2, 'PUNCT_count': 2, 'ADP_count': 1, 'colon_count': 0, 'semicolon_count': 0, 'lparen_count': 0, 'ellipse_count': 0, 'quote_count': 0, 'bang_count': 0}\n",
      "\n",
      "list index out of range\n",
      "offending message [], len: 0, row idx: 6028\n",
      "list index out of range\n",
      "offending message [], len: 0, row idx: 6609\n",
      "list index out of range\n",
      "offending message [], len: 0, row idx: 6756\n",
      "You would run away from a bear, but if the only way to run was into the stormy ocean, you'd turn around and confront the bear. gold: mod {'sent_len': 126, 'VERB_VERB_NOUN_CCONJ_NOUN_VERB_VERB': 1, 'NOUN_count': 4, 'ADV_count': 1, 'VERB_count': 7, 'ADJ_count': 2, 'adv_verb_ratio': 7.0, 'adj_noun_ratio': 2.0, 'PRON_count': 2, 'ADP_count': 3, 'DET_count': 4, 'PUNCT_count': 3, 'CCONJ_count': 2, 'PART_count': 2, 'colon_count': 0, 'semicolon_count': 0, 'lparen_count': 0, 'ellipse_count': 0, 'quote_count': 1, 'bang_count': 0}\n",
      "\n",
      "list index out of range\n",
      "offending message [], len: 0, row idx: 7377\n",
      "Why do you ask? gold: mod {'sent_len': 15, 'VERB_VERB': 1, 'NOUN_count': 0, 'ADV_count': 1, 'VERB_count': 2, 'ADJ_count': 0, 'adv_verb_ratio': 2.0, 'adj_noun_ratio': 0, 'PRON_count': 1, 'PUNCT_count': 1, 'colon_count': 0, 'semicolon_count': 0, 'lparen_count': 0, 'ellipse_count': 0, 'quote_count': 0, 'bang_count': 0}\n",
      "\n",
      "Nay, I'll go with thee, cheek by jowl. gold: ori {'sent_len': 38, 'VERB_VERB_NOUN_NOUN': 1, 'NOUN_count': 2, 'ADV_count': 0, 'VERB_count': 2, 'ADJ_count': 0, 'adv_verb_ratio': 0, 'adj_noun_ratio': 0, 'INTJ_count': 1, 'PUNCT_count': 3, 'PRON_count': 2, 'ADP_count': 2, 'colon_count': 0, 'semicolon_count': 0, 'lparen_count': 0, 'ellipse_count': 0, 'quote_count': 1, 'bang_count': 0}\n",
      "\n",
      "You have to be patient with me. gold: mod {'sent_len': 31, 'VERB_VERB': 1, 'NOUN_count': 0, 'ADV_count': 0, 'VERB_count': 2, 'ADJ_count': 1, 'adv_verb_ratio': 0, 'adj_noun_ratio': 0, 'PRON_count': 2, 'PART_count': 1, 'ADP_count': 1, 'PUNCT_count': 1, 'colon_count': 0, 'semicolon_count': 0, 'lparen_count': 0, 'ellipse_count': 0, 'quote_count': 0, 'bang_count': 0}\n",
      "\n",
      "Let their beds be as soft as yours, and let them eat the same food as you\"? gold: mod {'sent_len': 75, 'VERB_NOUN_VERB_CCONJ_VERB_VERB_NOUN': 1, 'NOUN_count': 2, 'ADV_count': 1, 'VERB_count': 4, 'ADJ_count': 3, 'adv_verb_ratio': 4.0, 'adj_noun_ratio': 0.6666666666666666, 'ADP_count': 2, 'PRON_count': 3, 'PUNCT_count': 3, 'CCONJ_count': 1, 'DET_count': 1, 'colon_count': 0, 'semicolon_count': 0, 'lparen_count': 0, 'ellipse_count': 0, 'quote_count': 0, 'bang_count': 0}\n",
      "\n",
      "list index out of range\n",
      "offending message [], len: 0, row idx: 11106\n",
      "list index out of range\n",
      "offending message [], len: 0, row idx: 11227\n",
      "list index out of range\n",
      "offending message [], len: 0, row idx: 11320\n",
      "I am not so well as I should be, but I'll ne'er out. gold: ori {'sent_len': 52, 'VERB_VERB_VERB_CCONJ_VERB_VERB': 1, 'NOUN_count': 0, 'ADV_count': 4, 'VERB_count': 5, 'ADJ_count': 0, 'adv_verb_ratio': 1.25, 'adj_noun_ratio': 0, 'PRON_count': 3, 'ADP_count': 1, 'PUNCT_count': 2, 'CCONJ_count': 1, 'colon_count': 0, 'semicolon_count': 0, 'lparen_count': 0, 'ellipse_count': 0, 'quote_count': 2, 'bang_count': 0}\n",
      "\n",
      "list index out of range\n",
      "offending message [], len: 0, row idx: 12525\n",
      "list index out of range\n",
      "offending message [], len: 0, row idx: 12925\n",
      "Be content. gold: mod {'sent_len': 11, 'VERB': 1, 'NOUN_count': 0, 'ADV_count': 0, 'VERB_count': 1, 'ADJ_count': 1, 'adv_verb_ratio': 0, 'adj_noun_ratio': 0, 'PUNCT_count': 1, 'colon_count': 0, 'semicolon_count': 0, 'lparen_count': 0, 'ellipse_count': 0, 'quote_count': 0, 'bang_count': 0}\n",
      "\n",
      "And maidens call it \"love-in-idleness.\" Fetch me that flower. gold: ori {'sent_len': 61, 'CCONJ_NOUN_VERB_NOUN_NOUN_VERB_NOUN': 1, 'NOUN_count': 4, 'ADV_count': 0, 'VERB_count': 2, 'ADJ_count': 0, 'adv_verb_ratio': 0, 'adj_noun_ratio': 0, 'CCONJ_count': 1, 'PRON_count': 2, 'PUNCT_count': 6, 'ADP_count': 1, 'DET_count': 1, 'colon_count': 0, 'semicolon_count': 0, 'lparen_count': 0, 'ellipse_count': 0, 'quote_count': 0, 'bang_count': 0}\n",
      "\n",
      "And weren't you the one who made him cheat on all of his other girlfriends, like Aegles, Ariadne, and Antiopa? gold: mod {'sent_len': 110, 'CCONJ_VERB_NOUN_NOUN_VERB_VERB_NOUN': 1, 'NOUN_count': 3, 'ADV_count': 1, 'VERB_count': 3, 'ADJ_count': 2, 'adv_verb_ratio': 3.0, 'adj_noun_ratio': 1.5, 'CCONJ_count': 2, 'PRON_count': 2, 'DET_count': 2, 'ADP_count': 3, 'PUNCT_count': 4, 'PROPN_count': 3, 'colon_count': 0, 'semicolon_count': 0, 'lparen_count': 0, 'ellipse_count': 0, 'quote_count': 1, 'bang_count': 0}\n",
      "\n",
      "Another hit. gold: mod {'sent_len': 12, 'NOUN': 1, 'NOUN_count': 1, 'ADV_count': 0, 'VERB_count': 0, 'ADJ_count': 0, 'adv_verb_ratio': 0, 'adj_noun_ratio': 0, 'DET_count': 1, 'PUNCT_count': 1, 'colon_count': 0, 'semicolon_count': 0, 'lparen_count': 0, 'ellipse_count': 0, 'quote_count': 0, 'bang_count': 0}\n",
      "\n",
      "list index out of range\n",
      "offending message [], len: 0, row idx: 16425\n",
      "Oh, well. gold: mod {'sent_len': 9, '': 1, 'NOUN_count': 0, 'ADV_count': 0, 'VERB_count': 0, 'ADJ_count': 0, 'adv_verb_ratio': 0, 'adj_noun_ratio': 0, 'INTJ_count': 2, 'PUNCT_count': 2, 'colon_count': 0, 'semicolon_count': 0, 'lparen_count': 0, 'ellipse_count': 0, 'quote_count': 0, 'bang_count': 0}\n",
      "\n",
      "list index out of range\n",
      "offending message [], len: 0, row idx: 17518\n",
      "Why has all this been put on the table? gold: mod {'sent_len': 39, 'VERB_VERB_VERB_NOUN': 1, 'NOUN_count': 1, 'ADV_count': 1, 'VERB_count': 3, 'ADJ_count': 1, 'adv_verb_ratio': 3.0, 'adj_noun_ratio': 1.0, 'DET_count': 2, 'ADP_count': 1, 'PUNCT_count': 1, 'colon_count': 0, 'semicolon_count': 0, 'lparen_count': 0, 'ellipse_count': 0, 'quote_count': 0, 'bang_count': 0}\n",
      "\n"
     ]
    },
    {
     "name": "stdout",
     "output_type": "stream",
     "text": [
      "Neither can my accomplishments at sea. gold: mod {'sent_len': 38, 'CCONJ_VERB_NOUN_NOUN': 1, 'NOUN_count': 2, 'ADV_count': 0, 'VERB_count': 1, 'ADJ_count': 1, 'adv_verb_ratio': 0, 'adj_noun_ratio': 2.0, 'CCONJ_count': 1, 'ADP_count': 1, 'PUNCT_count': 1, 'colon_count': 0, 'semicolon_count': 0, 'lparen_count': 0, 'ellipse_count': 0, 'quote_count': 0, 'bang_count': 0}\n",
      "\n",
      "list index out of range\n",
      "offending message [], len: 0, row idx: 19408\n",
      "list index out of range\n",
      "offending message [], len: 0, row idx: 19568\n",
      "But here my father comes. gold: ori {'sent_len': 25, 'CCONJ_NOUN_VERB': 1, 'NOUN_count': 1, 'ADV_count': 1, 'VERB_count': 1, 'ADJ_count': 1, 'adv_verb_ratio': 1.0, 'adj_noun_ratio': 1.0, 'CCONJ_count': 1, 'PUNCT_count': 1, 'colon_count': 0, 'semicolon_count': 0, 'lparen_count': 0, 'ellipse_count': 0, 'quote_count': 0, 'bang_count': 0}\n",
      "\n",
      "list index out of range\n",
      "offending message [], len: 0, row idx: 20082\n",
      "I'll be gentle and mild. gold: mod {'sent_len': 24, 'VERB_VERB_CCONJ': 1, 'NOUN_count': 0, 'ADV_count': 0, 'VERB_count': 2, 'ADJ_count': 2, 'adv_verb_ratio': 0, 'adj_noun_ratio': 0, 'PRON_count': 1, 'CCONJ_count': 1, 'PUNCT_count': 1, 'colon_count': 0, 'semicolon_count': 0, 'lparen_count': 0, 'ellipse_count': 0, 'quote_count': 1, 'bang_count': 0}\n",
      "\n",
      "list index out of range\n",
      "offending message [], len: 0, row idx: 21688\n",
      "Oh, most bloody sight! gold: mod {'sent_len': 22, 'NOUN': 1, 'NOUN_count': 1, 'ADV_count': 1, 'VERB_count': 0, 'ADJ_count': 1, 'adv_verb_ratio': 0, 'adj_noun_ratio': 1.0, 'INTJ_count': 1, 'PUNCT_count': 2, 'colon_count': 0, 'semicolon_count': 0, 'lparen_count': 0, 'ellipse_count': 0, 'quote_count': 0, 'bang_count': 1}\n",
      "\n",
      "To him will I. gold: ori {'sent_len': 14, 'VERB_VERB': 1, 'NOUN_count': 0, 'ADV_count': 0, 'VERB_count': 2, 'ADJ_count': 0, 'adv_verb_ratio': 0, 'adj_noun_ratio': 0, 'ADP_count': 1, 'PRON_count': 1, 'colon_count': 0, 'semicolon_count': 0, 'lparen_count': 0, 'ellipse_count': 0, 'quote_count': 0, 'bang_count': 0}\n",
      "\n",
      "list index out of range\n",
      "offending message [], len: 0, row idx: 23287\n",
      "He is ready at the door. gold: ori {'sent_len': 24, 'VERB_NOUN': 1, 'NOUN_count': 1, 'ADV_count': 0, 'VERB_count': 1, 'ADJ_count': 1, 'adv_verb_ratio': 0, 'adj_noun_ratio': 1.0, 'PRON_count': 1, 'ADP_count': 1, 'DET_count': 1, 'PUNCT_count': 1, 'colon_count': 0, 'semicolon_count': 0, 'lparen_count': 0, 'ellipse_count': 0, 'quote_count': 0, 'bang_count': 0}\n",
      "\n",
      "list index out of range\n",
      "offending message [], len: 0, row idx: 24824\n",
      "Please, don't mention her. gold: mod {'sent_len': 26, 'VERB_VERB': 1, 'NOUN_count': 0, 'ADV_count': 1, 'VERB_count': 2, 'ADJ_count': 0, 'adv_verb_ratio': 2.0, 'adj_noun_ratio': 0, 'INTJ_count': 1, 'PUNCT_count': 2, 'PRON_count': 1, 'colon_count': 0, 'semicolon_count': 0, 'lparen_count': 0, 'ellipse_count': 0, 'quote_count': 1, 'bang_count': 0}\n",
      "\n",
      "list index out of range\n",
      "offending message [], len: 0, row idx: 25348\n",
      "list index out of range\n",
      "offending message [], len: 0, row idx: 25482\n",
      "It's the tragedy of our times that lunatics must lead the blind. gold: mod {'sent_len': 64, 'VERB_NOUN_NOUN_NOUN_VERB_VERB': 1, 'NOUN_count': 3, 'ADV_count': 0, 'VERB_count': 3, 'ADJ_count': 2, 'adv_verb_ratio': 0, 'adj_noun_ratio': 1.5, 'PRON_count': 1, 'DET_count': 2, 'ADP_count': 2, 'PUNCT_count': 1, 'colon_count': 0, 'semicolon_count': 0, 'lparen_count': 0, 'ellipse_count': 0, 'quote_count': 1, 'bang_count': 0}\n",
      "\n",
      "list index out of range\n",
      "offending message [], len: 0, row idx: 26418\n",
      "piece of cheese will get him.--I challenge you to a match. gold: mod {'sent_len': 58, 'NOUN_NOUN_VERB_VERB_VERB_NOUN': 1, 'NOUN_count': 3, 'ADV_count': 0, 'VERB_count': 3, 'ADJ_count': 0, 'adv_verb_ratio': 0, 'adj_noun_ratio': 0, 'ADP_count': 2, 'PRON_count': 3, 'PUNCT_count': 2, 'DET_count': 1, 'colon_count': 0, 'semicolon_count': 0, 'lparen_count': 0, 'ellipse_count': 0, 'quote_count': 0, 'bang_count': 0}\n",
      "\n",
      "list index out of range\n",
      "offending message [], len: 0, row idx: 27798\n",
      "Why are you making these faces? gold: mod {'sent_len': 31, 'VERB_VERB_NOUN': 1, 'NOUN_count': 1, 'ADV_count': 1, 'VERB_count': 2, 'ADJ_count': 0, 'adv_verb_ratio': 2.0, 'adj_noun_ratio': 0, 'PRON_count': 1, 'DET_count': 1, 'PUNCT_count': 1, 'colon_count': 0, 'semicolon_count': 0, 'lparen_count': 0, 'ellipse_count': 0, 'quote_count': 0, 'bang_count': 0}\n",
      "\n",
      "People say he's generous, well educated, and brave, and he's very attractive. gold: mod {'sent_len': 77, 'NOUN_VERB_VERB_VERB_CCONJ_CCONJ_VERB': 1, 'NOUN_count': 1, 'ADV_count': 2, 'VERB_count': 4, 'ADJ_count': 3, 'adv_verb_ratio': 2.0, 'adj_noun_ratio': 0.3333333333333333, 'PRON_count': 2, 'PUNCT_count': 4, 'CCONJ_count': 2, 'colon_count': 0, 'semicolon_count': 0, 'lparen_count': 0, 'ellipse_count': 0, 'quote_count': 2, 'bang_count': 0}\n",
      "\n",
      "list index out of range\n",
      "offending message [], len: 0, row idx: 29850\n",
      "list index out of range\n",
      "offending message [], len: 0, row idx: 29952\n",
      "I am not to you known, Though in your state of honor I am perfect. gold: ori {'sent_len': 66, 'VERB_VERB_NOUN_NOUN_VERB': 1, 'NOUN_count': 2, 'ADV_count': 1, 'VERB_count': 3, 'ADJ_count': 2, 'adv_verb_ratio': 3.0, 'adj_noun_ratio': 1.0, 'PRON_count': 3, 'ADP_count': 4, 'PUNCT_count': 2, 'colon_count': 0, 'semicolon_count': 0, 'lparen_count': 0, 'ellipse_count': 0, 'quote_count': 0, 'bang_count': 0}\n",
      "\n",
      "Thy spirits are most tall. gold: ori {'sent_len': 26, 'NOUN_VERB': 1, 'NOUN_count': 1, 'ADV_count': 1, 'VERB_count': 1, 'ADJ_count': 2, 'adv_verb_ratio': 1.0, 'adj_noun_ratio': 0.5, 'PUNCT_count': 1, 'colon_count': 0, 'semicolon_count': 0, 'lparen_count': 0, 'ellipse_count': 0, 'quote_count': 0, 'bang_count': 0}\n",
      "\n",
      "list index out of range\n",
      "offending message [], len: 0, row idx: 31539\n",
      "list index out of range\n",
      "offending message [], len: 0, row idx: 31831\n",
      "We hope your poison has worn off and this day shall transform all grievances and quarrels into friendship. gold: mod {'sent_len': 106, 'VERB_NOUN_VERB_VERB_CCONJ_NOUN_VERB': 1, 'NOUN_count': 5, 'ADV_count': 0, 'VERB_count': 5, 'ADJ_count': 1, 'adv_verb_ratio': 0, 'adj_noun_ratio': 5.0, 'PRON_count': 1, 'PART_count': 1, 'CCONJ_count': 2, 'DET_count': 2, 'ADP_count': 1, 'PUNCT_count': 1, 'colon_count': 0, 'semicolon_count': 0, 'lparen_count': 0, 'ellipse_count': 0, 'quote_count': 0, 'bang_count': 0}\n",
      "\n",
      "The early village cock Hath twice done salutation to the morn. gold: ori {'sent_len': 62, 'NOUN_NOUN_VERB_NOUN_NOUN': 1, 'NOUN_count': 4, 'ADV_count': 1, 'VERB_count': 1, 'ADJ_count': 1, 'adv_verb_ratio': 1.0, 'adj_noun_ratio': 4.0, 'DET_count': 2, 'PROPN_count': 1, 'ADP_count': 1, 'PUNCT_count': 1, 'colon_count': 0, 'semicolon_count': 0, 'lparen_count': 0, 'ellipse_count': 0, 'quote_count': 0, 'bang_count': 0}\n",
      "\n",
      "list index out of range\n",
      "offending message [], len: 0, row idx: 33081\n",
      "Shall we see this wrestling, cousin?  gold: ori {'sent_len': 37, 'VERB_VERB_NOUN_NOUN': 1, 'NOUN_count': 2, 'ADV_count': 0, 'VERB_count': 2, 'ADJ_count': 0, 'adv_verb_ratio': 0, 'adj_noun_ratio': 0, 'PRON_count': 1, 'DET_count': 1, 'PUNCT_count': 2, 'colon_count': 0, 'semicolon_count': 0, 'lparen_count': 0, 'ellipse_count': 0, 'quote_count': 0, 'bang_count': 0}\n",
      "\n",
      "Was 't you he rescued? gold: ori {'sent_len': 22, 'VERB_NOUN_VERB': 1, 'NOUN_count': 1, 'ADV_count': 0, 'VERB_count': 2, 'ADJ_count': 0, 'adv_verb_ratio': 0, 'adj_noun_ratio': 0, 'PUNCT_count': 2, 'PRON_count': 2, 'colon_count': 0, 'semicolon_count': 0, 'lparen_count': 0, 'ellipse_count': 0, 'quote_count': 1, 'bang_count': 0}\n",
      "\n",
      "That will I, should I die the hour after. gold: ori {'sent_len': 41, 'VERB_VERB_VERB_NOUN': 1, 'NOUN_count': 1, 'ADV_count': 0, 'VERB_count': 3, 'ADJ_count': 0, 'adv_verb_ratio': 0, 'adj_noun_ratio': 0, 'DET_count': 2, 'PRON_count': 2, 'PUNCT_count': 2, 'ADP_count': 1, 'colon_count': 0, 'semicolon_count': 0, 'lparen_count': 0, 'ellipse_count': 0, 'quote_count': 0, 'bang_count': 0}\n",
      "\n",
      "list index out of range\n",
      "offending message [], len: 0, row idx: 36366\n",
      "Call up the Master Constable Dogberry. gold: mod {'sent_len': 38, 'VERB': 1, 'NOUN_count': 0, 'ADV_count': 0, 'VERB_count': 1, 'ADJ_count': 0, 'adv_verb_ratio': 0, 'adj_noun_ratio': 0, 'PART_count': 1, 'DET_count': 1, 'PROPN_count': 3, 'PUNCT_count': 1, 'colon_count': 0, 'semicolon_count': 0, 'lparen_count': 0, 'ellipse_count': 0, 'quote_count': 0, 'bang_count': 0}\n",
      "\n"
     ]
    },
    {
     "name": "stdout",
     "output_type": "stream",
     "text": [
      "Ah, my good lord, what have I seen tonight! gold: ori {'sent_len': 43, 'NOUN_NOUN_VERB_VERB_NOUN': 1, 'NOUN_count': 3, 'ADV_count': 0, 'VERB_count': 2, 'ADJ_count': 2, 'adv_verb_ratio': 0, 'adj_noun_ratio': 1.5, 'INTJ_count': 1, 'PUNCT_count': 3, 'PRON_count': 1, 'colon_count': 0, 'semicolon_count': 0, 'lparen_count': 0, 'ellipse_count': 0, 'quote_count': 0, 'bang_count': 1}\n",
      "\n",
      "list index out of range\n",
      "offending message [], len: 0, row idx: 38033\n",
      "He'll accompany my wife, and bring whatever else you think I might need. gold: mod {'sent_len': 72, 'VERB_VERB_NOUN_CCONJ_VERB_VERB_VERB': 1, 'NOUN_count': 1, 'ADV_count': 1, 'VERB_count': 6, 'ADJ_count': 2, 'adv_verb_ratio': 6.0, 'adj_noun_ratio': 0.5, 'PRON_count': 3, 'PUNCT_count': 2, 'CCONJ_count': 1, 'colon_count': 0, 'semicolon_count': 0, 'lparen_count': 0, 'ellipse_count': 0, 'quote_count': 1, 'bang_count': 0}\n",
      "\n",
      "list index out of range\n",
      "offending message [], len: 0, row idx: 39434\n",
      "list index out of range\n",
      "offending message [], len: 0, row idx: 39924\n",
      "My Lord of Norfolk-- Here, most gracious king. gold: mod {'sent_len': 46, 'NOUN': 1, 'NOUN_count': 1, 'ADV_count': 2, 'VERB_count': 0, 'ADJ_count': 2, 'adv_verb_ratio': 0, 'adj_noun_ratio': 0.5, 'PROPN_count': 2, 'ADP_count': 1, 'PUNCT_count': 2, 'colon_count': 0, 'semicolon_count': 0, 'lparen_count': 0, 'ellipse_count': 0, 'quote_count': 0, 'bang_count': 0}\n",
      "\n",
      "list index out of range\n",
      "offending message [], len: 0, row idx: 40444\n",
      "list index out of range\n",
      "offending message [], len: 0, row idx: 40784\n",
      "Do you know why the nose is in the middle of a person's face? gold: mod {'sent_len': 61, 'VERB_VERB_NOUN_VERB_NOUN_NOUN_NOUN': 1, 'NOUN_count': 4, 'ADV_count': 1, 'VERB_count': 3, 'ADJ_count': 0, 'adv_verb_ratio': 3.0, 'adj_noun_ratio': 0, 'PRON_count': 1, 'DET_count': 3, 'ADP_count': 2, 'PART_count': 1, 'PUNCT_count': 1, 'colon_count': 0, 'semicolon_count': 0, 'lparen_count': 0, 'ellipse_count': 0, 'quote_count': 1, 'bang_count': 0}\n",
      "\n",
      "list index out of range\n",
      "offending message [], len: 0, row idx: 41809\n",
      "And bid her come hither. gold: ori {'sent_len': 24, 'CCONJ_VERB_VERB_NOUN': 1, 'NOUN_count': 1, 'ADV_count': 0, 'VERB_count': 2, 'ADJ_count': 1, 'adv_verb_ratio': 0, 'adj_noun_ratio': 1.0, 'CCONJ_count': 1, 'PUNCT_count': 1, 'colon_count': 0, 'semicolon_count': 0, 'lparen_count': 0, 'ellipse_count': 0, 'quote_count': 0, 'bang_count': 0}\n",
      "\n",
      "(42192, 1645)\n"
     ]
    }
   ],
   "source": [
    "from sklearn.feature_extraction import DictVectorizer\n",
    "import spacy\n",
    "import scipy.sparse\n",
    "nlp = spacy.load('en_core_web_sm')\n",
    "\n",
    "vectorizer = DictVectorizer()\n",
    "features = []\n",
    "\n",
    "#bleu: 0-1, 1 is perfect score\n",
    "#bleu = sentence_bleu([sen2],sen1)\n",
    "\n",
    "raw_text_col = 0\n",
    "LABEL_COL = -1\n",
    "\n",
    "def extract_punc_feats(txt):\n",
    "    punc_dict = {}\n",
    "    punc_data = {'colon':':', 'semicolon': ';', 'lparen':'(',\n",
    "                'ellipse': '...', 'quote': \"'\", 'bang': \"!\"}\n",
    "    \n",
    "    for key in punc_data.keys():\n",
    "        punc_dict[key+'_count'] = txt.count(punc_data[key])\n",
    "        #         if txt.count(punc_data[key]) != 0:\n",
    "        #             print(txt)\n",
    "        \n",
    "    return punc_dict\n",
    "\n",
    "def extract_feats(row_idx, raw):\n",
    "    feature_dict = {}\n",
    "    pos_dict = {'NOUN_count': 0, 'ADV_count': 0, 'VERB_count': 0, \n",
    "                'ADJ_count': 0, 'adv_verb_ratio': 0, 'adj_noun_ratio': 0\n",
    "               }\n",
    "    txt = str(raw[row_idx][raw_text_col])\n",
    "    \n",
    "    feature_dict['sent_len'] = len(txt)\n",
    "    \n",
    "    try:\n",
    "        doc = nlp(txt)\n",
    "    except IndexError as e:\n",
    "        print(e)\n",
    "        print(\"offending message [{}], len: {}, row idx: {}\".format(txt, len(txt), row_idx))\n",
    "        doc = []\n",
    "\n",
    "    pos_sequence = []\n",
    "    for token in doc:\n",
    "        pos = token.pos_\n",
    "        pos_dict[pos+'_count'] = pos_dict.get(pos+'_count', 0) + 1\n",
    "        if pos == 'NOUN' or pos == 'VERB' or pos == 'CCONJ':\n",
    "            pos_sequence.append(pos)\n",
    "            \n",
    "    pos_sequence = pos_sequence[:7] # shortening the num of features to reasonable\n",
    "    pos_sequence_name = \"_\".join(pos_sequence)\n",
    "    feature_dict[pos_sequence_name] = 1\n",
    "\n",
    "\n",
    "    if pos_dict['NOUN_count'] == 0 or pos_dict['ADJ_count'] == 0:\n",
    "        pos_dict['adj_noun_ratio'] = 0\n",
    "    else:\n",
    "        pos_dict['adj_noun_ratio'] = pos_dict['NOUN_count'] / pos_dict['ADJ_count'] \n",
    "\n",
    "    if pos_dict['VERB_count'] == 0 or pos_dict['ADV_count'] == 0:\n",
    "        pos_dict['adv_verb_ratio'] = 0\n",
    "    else:\n",
    "        pos_dict['adv_verb_ratio'] = pos_dict['VERB_count'] / pos_dict['ADV_count'] \n",
    "        \n",
    "    feature_dict.update(pos_dict)\n",
    "    feature_dict.update(extract_punc_feats(txt))\n",
    "    \n",
    "    if row_idx % 1000 == 0:\n",
    "        print(\"{} gold: {} {}\\n\".format(txt, raw[row_idx][LABEL_COL], feature_dict) )\n",
    "     \n",
    "    return feature_dict\n",
    "\n",
    "\n",
    "for row_idx,_ in enumerate(raw):\n",
    "    features.append(extract_feats(row_idx, raw))\n",
    "\n",
    "X = vectorizer.fit_transform(features)\n",
    "print(X.shape)\n",
    "\n",
    "X = X.todense()\n"
   ]
  },
  {
   "cell_type": "code",
   "execution_count": 7,
   "metadata": {},
   "outputs": [
    {
     "data": {
      "text/plain": [
       "(42192, 2)"
      ]
     },
     "execution_count": 7,
     "metadata": {},
     "output_type": "execute_result"
    }
   ],
   "source": [
    "raw.shape"
   ]
  },
  {
   "cell_type": "code",
   "execution_count": 8,
   "metadata": {},
   "outputs": [],
   "source": [
    "persist_obj(raw, 'raw_all_plays_1645.pickle')\n",
    "persist_obj(X, 'X_all_plays_1645.pickle')"
   ]
  },
  {
   "cell_type": "code",
   "execution_count": 6,
   "metadata": {},
   "outputs": [
    {
     "data": {
      "text/plain": [
       "(42192, 1645)"
      ]
     },
     "execution_count": 6,
     "metadata": {},
     "output_type": "execute_result"
    }
   ],
   "source": [
    "import pickle\n",
    "\n",
    "LABEL_COL = -1 \n",
    "\n",
    "with open('raw_all_plays_1645.pickle', 'rb') as f:\n",
    "    raw = pickle.load(f)\n",
    "\n",
    "with open('X_all_plays_1645.pickle', 'rb') as f:\n",
    "    X = pickle.load(f)\n",
    "X.shape\n",
    "\n"
   ]
  },
  {
   "cell_type": "code",
   "execution_count": null,
   "metadata": {},
   "outputs": [],
   "source": [
    " "
   ]
  },
  {
   "cell_type": "code",
   "execution_count": 7,
   "metadata": {},
   "outputs": [
    {
     "name": "stdout",
     "output_type": "stream",
     "text": [
      "10548.0\n",
      "total rows: 42192 train val split delim: 8438 val test split delim: 9493\n"
     ]
    },
    {
     "data": {
      "text/plain": [
       "SVC(C=0.1, cache_size=200, class_weight=None, coef0=0.0,\n",
       "  decision_function_shape='ovr', degree=3, gamma='auto', kernel='linear',\n",
       "  max_iter=-1, probability=False, random_state=None, shrinking=True,\n",
       "  tol=0.001, verbose=False)"
      ]
     },
     "execution_count": 7,
     "metadata": {},
     "output_type": "execute_result"
    }
   ],
   "source": [
    "from sklearn.linear_model import LogisticRegression\n",
    "from sklearn.naive_bayes import MultinomialNB\n",
    "from sklearn import svm\n",
    "import numpy as np\n",
    "np.set_printoptions(suppress=True)\n",
    "\n",
    "import time\n",
    "import math\n",
    "###############\n",
    "# training ####\n",
    "###############\n",
    "\n",
    "\n",
    "n = len(X)*.25\n",
    "print(n)\n",
    "train_val_split_delim = math.floor(n * .8)\n",
    "val_test_split_delim = math.floor(n * .9)\n",
    "end_delim = int(n)\n",
    "\n",
    "\n",
    "print(\"total rows: {} train val split delim: {} val test split delim: {}\".format(len(X), train_val_split_delim, val_test_split_delim))\n",
    "# numpy note: addressing [:delim] is exclusive of delim, but\n",
    "#                         [delim:] is inclusive of delim\n",
    "\n",
    "\n",
    "X_train = X[0:train_val_split_delim]\n",
    "Y_train = raw[0:train_val_split_delim,LABEL_COL]\n",
    "\n",
    "X_val = X[train_val_split_delim:val_test_split_delim]\n",
    "Y_val = raw[train_val_split_delim:val_test_split_delim,LABEL_COL]\n",
    "\n",
    "X_test = X[val_test_split_delim:end_delim]\n",
    "Y_test = raw[val_test_split_delim:end_delim,LABEL_COL]\n",
    "\n",
    "if len(X_test) != len(Y_test):\n",
    "    raise ValueError(\"mismatched arrays! {} {}\".format(len(preds), len(y_true)))\n",
    "\n",
    "\n",
    "#mdl = LogisticRegression(random_state=123)\n",
    "#mdl = MultinomialNB()\n",
    "mdl = svm.SVC(kernel = 'linear', C=.1) # Accuracy: 0.589743\n",
    "    # with all plays: .611\n",
    "mdl.fit(X_train, Y_train)\n",
    "\n",
    "\n"
   ]
  },
  {
   "cell_type": "code",
   "execution_count": 8,
   "metadata": {},
   "outputs": [],
   "source": [
    "# def persist_features(X, name='X_all_plays.pickle'):\n",
    "#     with open(name, 'wb') as f:\n",
    "#         pickle.dump(X, f, pickle.HIGHEST_PROTOCOL)\n",
    "\n",
    "#persist_features(mdl, 'mdl_all_plays_pos_7_gram.pickle')\n",
    "# persist_features(X, 'X_all_plays_pos_gram.pickle')"
   ]
  },
  {
   "cell_type": "code",
   "execution_count": 9,
   "metadata": {},
   "outputs": [
    {
     "name": "stdout",
     "output_type": "stream",
     "text": [
      "val Accuracy: 0.6426540284360189\n",
      "Predictions evaluated: 1055\n",
      "test Accuracy: 0.6180094786729858\n"
     ]
    }
   ],
   "source": [
    "# evaluation ###\n",
    "################\n",
    "#second class is original\n",
    "\n",
    "\n",
    "#y_true = raw[train_val_split_delim:val_test_split_delim,LABEL_COL]\n",
    "val_preds = mdl.predict(X_val)\n",
    "\n",
    "#y_true = [int(raw[int(idx)][-1]) for idx in val_indices]\n",
    "\n",
    "# brier = brier_score_loss(y_true, preds[:,0]) \n",
    "# print(\"brier score:\", brier)\n",
    "\n",
    "#currently slightly worse than randomly permuting preds\n",
    "\n",
    "def accuracy(preds, y_true):\n",
    "    if len(preds) != len(y_true):\n",
    "        raise ValueError(\"mismatched arrays! {} {}\".format(len(preds), len(y_true)))\n",
    "    num_correct = 0\n",
    "    for (x,y) in zip(preds, y_true):\n",
    "        if x == y:\n",
    "            num_correct = num_correct + 1\n",
    "    return num_correct/len(preds)\n",
    "\n",
    "print(\"val Accuracy: {}\".format(accuracy(val_preds,Y_val)))\n",
    "print(\"Predictions evaluated: {}\".format(len(val_preds)))\n",
    "\n",
    "test_preds = mdl.predict(X_test)\n",
    "print(\"test Accuracy: {}\".format(accuracy(test_preds,Y_test)))\n"
   ]
  },
  {
   "cell_type": "code",
   "execution_count": 10,
   "metadata": {},
   "outputs": [
    {
     "ename": "NameError",
     "evalue": "name 'preds' is not defined",
     "output_type": "error",
     "traceback": [
      "\u001b[0;31m---------------------------------------------------------------------------\u001b[0m",
      "\u001b[0;31mNameError\u001b[0m                                 Traceback (most recent call last)",
      "\u001b[0;32m<ipython-input-10-7782233fd202>\u001b[0m in \u001b[0;36m<module>\u001b[0;34m()\u001b[0m\n\u001b[1;32m      7\u001b[0m \u001b[0;32mimport\u001b[0m \u001b[0mitertools\u001b[0m\u001b[0;34m\u001b[0m\u001b[0m\n\u001b[1;32m      8\u001b[0m \u001b[0;34m\u001b[0m\u001b[0m\n\u001b[0;32m----> 9\u001b[0;31m \u001b[0mconf_mat\u001b[0m \u001b[0;34m=\u001b[0m \u001b[0mconfusion_matrix\u001b[0m\u001b[0;34m(\u001b[0m\u001b[0mY_val\u001b[0m\u001b[0;34m,\u001b[0m \u001b[0mpreds\u001b[0m\u001b[0;34m)\u001b[0m\u001b[0;34m\u001b[0m\u001b[0m\n\u001b[0m\u001b[1;32m     10\u001b[0m \u001b[0;31m# fig, ax = plt.subplots(figsize=(10,10))\u001b[0m\u001b[0;34m\u001b[0m\u001b[0;34m\u001b[0m\u001b[0m\n\u001b[1;32m     11\u001b[0m \u001b[0;31m# # sns.heatmap(conf_mat, annot=True, fmt='d',\u001b[0m\u001b[0;34m\u001b[0m\u001b[0;34m\u001b[0m\u001b[0m\n",
      "\u001b[0;31mNameError\u001b[0m: name 'preds' is not defined"
     ]
    }
   ],
   "source": [
    "# error analysis ##\n",
    "##################\n",
    "\n",
    "\n",
    "from sklearn.metrics import confusion_matrix\n",
    "import matplotlib.pyplot as plt\n",
    "import itertools\n",
    "\n",
    "conf_mat = confusion_matrix(Y_val, preds)\n",
    "# fig, ax = plt.subplots(figsize=(10,10))\n",
    "# # sns.heatmap(conf_mat, annot=True, fmt='d',\n",
    "# #             xticklabels=category_id_df.Product.values, yticklabels=category_id_df.Product.values)\n",
    "# plt.ylabel('Actual')\n",
    "# plt.xlabel('Predicted')\n",
    "\n",
    "# NOTE: this function taken from: \n",
    "# http://scikit-learn.org/stable/auto_examples/model_selection/plot_confusion_matrix.html#sphx-glr-auto-examples-model-selection-plot-confusion-matrix-py\n",
    "def plot_confusion_matrix(cm, classes,\n",
    "                          title='Confusion matrix',\n",
    "                          cmap=plt.cm.Blues):\n",
    "\n",
    "    plt.imshow(cm, interpolation='nearest', cmap=cmap)\n",
    "    plt.title(title)\n",
    "    plt.colorbar()\n",
    "    tick_marks = np.arange(len(classes))\n",
    "    plt.xticks(tick_marks, classes, rotation=45)\n",
    "    plt.yticks(tick_marks, classes)\n",
    "\n",
    "    fmt = '.2f'\n",
    "    thresh = 500\n",
    "    for i, j in itertools.product(range(cm.shape[0]), range(cm.shape[1])):\n",
    "        plt.text(j, i, format(cm[i, j], fmt),\n",
    "                 horizontalalignment=\"center\",\n",
    "                 color=\"white\" if cm[i, j] > thresh else \"black\")\n",
    "\n",
    "    plt.tight_layout()\n",
    "    plt.ylabel('True label')\n",
    "    plt.xlabel('Predicted label')\n",
    "\n",
    "\n",
    "plt.figure()\n",
    "print(conf_mat)\n",
    "plot_confusion_matrix(conf_mat, classes=mdl.classes_,\n",
    "                      title=\"Confusion matrix\")\n",
    "plt.show()"
   ]
  },
  {
   "cell_type": "code",
   "execution_count": null,
   "metadata": {},
   "outputs": [],
   "source": [
    "# test_len = len(preds)\n",
    "# accuracy = sum(preds)/float(test_len)\n",
    "# print(\"accuracy: {}\".format(accuracy))\n",
    "\n",
    "#othello accuracy: 0.7428571428571429. but maybe not permuted\n",
    "#all: accuracy: 0.328237942884228\n",
    "\n",
    "#pos, no bleu, 2 plays\n",
    "# Mult NB: .519"
   ]
  },
  {
   "cell_type": "code",
   "execution_count": null,
   "metadata": {},
   "outputs": [],
   "source": [
    "# doc = nlp(u\"a sleep that ends all the heartache\")\n",
    "# # span = doc[doc[4].left_edge.i : doc[4].right_edge.i+1]\n",
    "# # span.merge()\n",
    "# for token in doc:\n",
    "#     print(token.text, token.pos_, token.dep_, token.head.text)"
   ]
  },
  {
   "cell_type": "code",
   "execution_count": null,
   "metadata": {},
   "outputs": [],
   "source": [
    "#raw[:10]"
   ]
  },
  {
   "cell_type": "code",
   "execution_count": null,
   "metadata": {},
   "outputs": [],
   "source": [
    "int(2.1)"
   ]
  },
  {
   "cell_type": "code",
   "execution_count": null,
   "metadata": {},
   "outputs": [],
   "source": []
  },
  {
   "cell_type": "code",
   "execution_count": null,
   "metadata": {},
   "outputs": [],
   "source": []
  }
 ],
 "metadata": {
  "kernelspec": {
   "display_name": "Python 3",
   "language": "python",
   "name": "python3"
  },
  "language_info": {
   "codemirror_mode": {
    "name": "ipython",
    "version": 3
   },
   "file_extension": ".py",
   "mimetype": "text/x-python",
   "name": "python",
   "nbconvert_exporter": "python",
   "pygments_lexer": "ipython3",
   "version": "3.6.6"
  }
 },
 "nbformat": 4,
 "nbformat_minor": 2
}
