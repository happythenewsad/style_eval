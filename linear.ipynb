{
 "cells": [
  {
   "cell_type": "code",
   "execution_count": 86,
   "metadata": {},
   "outputs": [],
   "source": [
    "import unidecode\n",
    "from nltk.translate.bleu_score import sentence_bleu\n",
    "import random as rd\n",
    "\n",
    "play_file_infixes = ['othello', 'antony-and-cleopatra', 'asyoulikeit', \n",
    "                     'errors', 'hamlet', 'henryv', 'juliuscaesar', 'lear', 'macbeth', \n",
    "                     'merchant', 'msnd', 'muchado', 'richardiii', 'romeojuliet', \n",
    "                     'shrew', 'tempest', 'twelfthnight']\n",
    "#play_file_infixes = ['othello', 'henryv']\n",
    "\n",
    "agg_original_tuples = []\n",
    "agg_modern_tuples = []\n",
    "path = \"data/shakespeare/data/align/plays/merged/\"\n",
    "\n",
    "for infix in play_file_infixes:\n",
    "    modern_tuples = unidecode.unidecode(open(path + infix + \"_modern.snt.aligned\").read()).split(\"\\n\")\n",
    "    original_tuples = unidecode.unidecode(open(path + infix + \"_original.snt.aligned\").read()).split(\"\\n\")\n",
    "    agg_original_tuples.extend(original_tuples)\n",
    "    agg_modern_tuples.extend(modern_tuples)"
   ]
  },
  {
   "cell_type": "code",
   "execution_count": 87,
   "metadata": {},
   "outputs": [
    {
     "name": "stdout",
     "output_type": "stream",
     "text": [
      "What's the matter, lieutenant?\n",
      "What's the matter, lieutenant?\n",
      "\n"
     ]
    }
   ],
   "source": [
    "print(\"{}\\n{}\\n\".format(agg_original_tuples[0], agg_modern_tuples[0]))\n",
    "#print(\"{}\\n{}\\n\".format(agg_original_tuples[5000], agg_modern_tuples[5000]))\n",
    "# print(\"{}\\n{}\\n\".format(agg_original_tuples[9000], agg_modern_tuples[9000]))\n",
    "# print(\"{}\\n{}\\n\".format(agg_original_tuples[18000], agg_modern_tuples[18000]))\n"
   ]
  },
  {
   "cell_type": "code",
   "execution_count": 88,
   "metadata": {},
   "outputs": [
    {
     "name": "stdout",
     "output_type": "stream",
     "text": [
      "(42192, 2)\n"
     ]
    }
   ],
   "source": [
    "# in-class = original = '1'\n",
    "# raw -> (raw text, label)\n",
    "import numpy as np\n",
    "\n",
    "style1_np = np.array(agg_original_tuples)\n",
    "style1_labels = np.array(['ori' for x in range(len(agg_original_tuples))])\n",
    "X = np.vstack((style1_np, style1_labels))\n",
    "\n",
    "style2_np = np.array(agg_modern_tuples)\n",
    "style2_labels = np.array(['mod' for x in range(len(agg_modern_tuples))])\n",
    "X2 = np.vstack((style2_np, style2_labels))\n",
    "\n",
    "X = np.hstack((X,X2))\n",
    "raw = np.transpose(X)\n",
    "\n",
    "# idx_col = [str(x) for x in range(len(raw))]\n",
    "# idx_col = np.array(idx_col).reshape(-1,1)\n",
    "# print(idx_col.shape)\n",
    "print(raw.shape)\n",
    "#raw = np.hstack((idx_col, raw))\n",
    "raw.shape\n",
    "raw = np.random.permutation(raw)"
   ]
  },
  {
   "cell_type": "code",
   "execution_count": 89,
   "metadata": {},
   "outputs": [],
   "source": [
    "import pickle\n",
    "\n",
    "def persist_features(X, name='X_all_plays_1645.pickle'):\n",
    "    with open(name, 'wb') as f:\n",
    "        pickle.dump(X, f, pickle.HIGHEST_PROTOCOL)\n",
    "\n",
    "persist_features(raw, 'raw_all_plays_1645.pickle')"
   ]
  },
  {
   "cell_type": "code",
   "execution_count": 91,
   "metadata": {
    "scrolled": true
   },
   "outputs": [
    {
     "name": "stdout",
     "output_type": "stream",
     "text": [
      "Let wantons light of heart Tickle the senseless rushes with their heels. gold: ori {'sent_len': 72, 'VERB_NOUN_NOUN_NOUN_VERB_VERB_NOUN': 1, 'NOUN_count': 4, 'ADV_count': 0, 'VERB_count': 3, 'ADJ_count': 2, 'adv_verb_ratio': 0, 'adj_noun_ratio': 2.0, 'ADP_count': 2, 'DET_count': 1, 'PUNCT_count': 1, 'colon_count': 0, 'semicolon_count': 0, 'lparen_count': 0, 'ellipse_count': 0, 'quote_count': 0, 'bang_count': 0}\n",
      "\n",
      "list index out of range\n",
      "offending message [], len: 0, row idx: 933\n",
      "Oh, that I were a fool! gold: ori {'sent_len': 23, 'VERB_NOUN': 1, 'NOUN_count': 1, 'ADV_count': 0, 'VERB_count': 1, 'ADJ_count': 0, 'adv_verb_ratio': 0, 'adj_noun_ratio': 0, 'INTJ_count': 1, 'PUNCT_count': 2, 'ADP_count': 1, 'PRON_count': 1, 'DET_count': 1, 'colon_count': 0, 'semicolon_count': 0, 'lparen_count': 0, 'ellipse_count': 0, 'quote_count': 0, 'bang_count': 1}\n",
      "\n",
      "What is the news? gold: ori {'sent_len': 17, 'NOUN_VERB_NOUN': 1, 'NOUN_count': 2, 'ADV_count': 0, 'VERB_count': 1, 'ADJ_count': 0, 'adv_verb_ratio': 0, 'adj_noun_ratio': 0, 'DET_count': 1, 'PUNCT_count': 1, 'colon_count': 0, 'semicolon_count': 0, 'lparen_count': 0, 'ellipse_count': 0, 'quote_count': 0, 'bang_count': 0}\n",
      "\n",
      "But no beautiful woman has an honest face. gold: mod {'sent_len': 42, 'CCONJ_NOUN_VERB_NOUN': 1, 'NOUN_count': 2, 'ADV_count': 0, 'VERB_count': 1, 'ADJ_count': 2, 'adv_verb_ratio': 0, 'adj_noun_ratio': 1.0, 'CCONJ_count': 1, 'DET_count': 2, 'PUNCT_count': 1, 'colon_count': 0, 'semicolon_count': 0, 'lparen_count': 0, 'ellipse_count': 0, 'quote_count': 0, 'bang_count': 0}\n",
      "\n",
      "list index out of range\n",
      "offending message [], len: 0, row idx: 3231\n",
      "list index out of range\n",
      "offending message [], len: 0, row idx: 3711\n",
      "list index out of range\n",
      "offending message [], len: 0, row idx: 3772\n",
      "list index out of range\n",
      "offending message [], len: 0, row idx: 3971\n",
      "Everything's fine now. gold: mod {'sent_len': 22, 'NOUN_NOUN': 1, 'NOUN_count': 2, 'ADV_count': 1, 'VERB_count': 0, 'ADJ_count': 0, 'adv_verb_ratio': 0, 'adj_noun_ratio': 0, 'PART_count': 1, 'PUNCT_count': 1, 'colon_count': 0, 'semicolon_count': 0, 'lparen_count': 0, 'ellipse_count': 0, 'quote_count': 1, 'bang_count': 0}\n",
      "\n",
      "list index out of range\n",
      "offending message [], len: 0, row idx: 4629\n",
      "Will you yield and this avoid Or, guilty in defense, be thus destroyed? gold: ori {'sent_len': 71, 'VERB_VERB_CCONJ_NOUN_CCONJ_NOUN_VERB': 1, 'NOUN_count': 2, 'ADV_count': 1, 'VERB_count': 4, 'ADJ_count': 1, 'adv_verb_ratio': 4.0, 'adj_noun_ratio': 2.0, 'PRON_count': 1, 'CCONJ_count': 2, 'DET_count': 1, 'PUNCT_count': 3, 'ADP_count': 1, 'colon_count': 0, 'semicolon_count': 0, 'lparen_count': 0, 'ellipse_count': 0, 'quote_count': 0, 'bang_count': 0}\n",
      "\n",
      "We have God and a good cause on our side. gold: mod {'sent_len': 41, 'VERB_CCONJ_NOUN_NOUN': 1, 'NOUN_count': 2, 'ADV_count': 0, 'VERB_count': 1, 'ADJ_count': 2, 'adv_verb_ratio': 0, 'adj_noun_ratio': 1.0, 'PRON_count': 1, 'PROPN_count': 1, 'CCONJ_count': 1, 'DET_count': 1, 'ADP_count': 1, 'PUNCT_count': 1, 'colon_count': 0, 'semicolon_count': 0, 'lparen_count': 0, 'ellipse_count': 0, 'quote_count': 0, 'bang_count': 0}\n",
      "\n",
      "list index out of range\n",
      "offending message [], len: 0, row idx: 6014\n",
      "I should be ridiculed if I were offended so easily--and laughed at even more for speaking of you disrespectfully, when I had no reason to speak of you at all.  gold: mod {'sent_len': 159, 'VERB_VERB_VERB_VERB_VERB_CCONJ_VERB': 1, 'NOUN_count': 1, 'ADV_count': 8, 'VERB_count': 9, 'ADJ_count': 0, 'adv_verb_ratio': 1.125, 'adj_noun_ratio': 0, 'PRON_count': 5, 'ADP_count': 5, 'PUNCT_count': 3, 'CCONJ_count': 1, 'DET_count': 1, 'PART_count': 1, 'colon_count': 0, 'semicolon_count': 0, 'lparen_count': 0, 'ellipse_count': 0, 'quote_count': 0, 'bang_count': 0}\n",
      "\n",
      "Are these, I pray you, wind instruments? gold: ori {'sent_len': 40, 'VERB_VERB_NOUN_NOUN': 1, 'NOUN_count': 2, 'ADV_count': 0, 'VERB_count': 2, 'ADJ_count': 0, 'adv_verb_ratio': 0, 'adj_noun_ratio': 0, 'DET_count': 1, 'PUNCT_count': 3, 'PRON_count': 2, 'colon_count': 0, 'semicolon_count': 0, 'lparen_count': 0, 'ellipse_count': 0, 'quote_count': 0, 'bang_count': 0}\n",
      "\n",
      "list index out of range\n",
      "offending message [], len: 0, row idx: 8740\n",
      "A faithful shepherd worships you. gold: mod {'sent_len': 33, 'NOUN_VERB': 1, 'NOUN_count': 1, 'ADV_count': 0, 'VERB_count': 1, 'ADJ_count': 1, 'adv_verb_ratio': 0, 'adj_noun_ratio': 1.0, 'DET_count': 1, 'PRON_count': 1, 'PUNCT_count': 1, 'colon_count': 0, 'semicolon_count': 0, 'lparen_count': 0, 'ellipse_count': 0, 'quote_count': 0, 'bang_count': 0}\n",
      "\n",
      "list index out of range\n",
      "offending message [], len: 0, row idx: 9487\n",
      "list index out of range\n",
      "offending message [], len: 0, row idx: 9560\n",
      "list index out of range\n",
      "offending message [], len: 0, row idx: 9606\n",
      "Goodbye. gold: mod {'sent_len': 8, '': 1, 'NOUN_count': 0, 'ADV_count': 0, 'VERB_count': 0, 'ADJ_count': 0, 'adv_verb_ratio': 0, 'adj_noun_ratio': 0, 'INTJ_count': 1, 'PUNCT_count': 1, 'colon_count': 0, 'semicolon_count': 0, 'lparen_count': 0, 'ellipse_count': 0, 'quote_count': 0, 'bang_count': 0}\n",
      "\n",
      "Thy Brutus bid me give it thee, and I Will do his bidding. gold: ori {'sent_len': 58, 'VERB_VERB_CCONJ_VERB_VERB_NOUN': 1, 'NOUN_count': 1, 'ADV_count': 0, 'VERB_count': 4, 'ADJ_count': 1, 'adv_verb_ratio': 0, 'adj_noun_ratio': 1.0, 'PROPN_count': 2, 'PRON_count': 4, 'PUNCT_count': 2, 'CCONJ_count': 1, 'colon_count': 0, 'semicolon_count': 0, 'lparen_count': 0, 'ellipse_count': 0, 'quote_count': 0, 'bang_count': 0}\n",
      "\n",
      "Hath not a Jew eyes? gold: ori {'sent_len': 20, 'NOUN': 1, 'NOUN_count': 1, 'ADV_count': 1, 'VERB_count': 0, 'ADJ_count': 0, 'adv_verb_ratio': 0, 'adj_noun_ratio': 0, 'PROPN_count': 2, 'DET_count': 1, 'PUNCT_count': 1, 'colon_count': 0, 'semicolon_count': 0, 'lparen_count': 0, 'ellipse_count': 0, 'quote_count': 0, 'bang_count': 0}\n",
      "\n",
      "list index out of range\n",
      "offending message [], len: 0, row idx: 12084\n",
      "Who can come in and say that I mean her, When such a one as she such is her neighbor? gold: ori {'sent_len': 85, 'NOUN_VERB_VERB_CCONJ_VERB_VERB_NOUN': 1, 'NOUN_count': 3, 'ADV_count': 1, 'VERB_count': 5, 'ADJ_count': 3, 'adv_verb_ratio': 5.0, 'adj_noun_ratio': 1.0, 'PART_count': 1, 'CCONJ_count': 1, 'ADP_count': 2, 'PRON_count': 3, 'PUNCT_count': 2, 'DET_count': 1, 'colon_count': 0, 'semicolon_count': 0, 'lparen_count': 0, 'ellipse_count': 0, 'quote_count': 0, 'bang_count': 0}\n",
      "\n",
      "Get out of my sight. gold: mod {'sent_len': 20, 'VERB_NOUN': 1, 'NOUN_count': 1, 'ADV_count': 0, 'VERB_count': 1, 'ADJ_count': 1, 'adv_verb_ratio': 0, 'adj_noun_ratio': 1.0, 'ADP_count': 2, 'PUNCT_count': 1, 'colon_count': 0, 'semicolon_count': 0, 'lparen_count': 0, 'ellipse_count': 0, 'quote_count': 0, 'bang_count': 0}\n",
      "\n",
      "list index out of range\n",
      "offending message [], len: 0, row idx: 14037\n",
      "list index out of range\n",
      "offending message [], len: 0, row idx: 14301\n",
      "You could only imitate his imperfections so well if you were the man himself. gold: mod {'sent_len': 77, 'VERB_VERB_NOUN_VERB_NOUN': 1, 'NOUN_count': 2, 'ADV_count': 3, 'VERB_count': 3, 'ADJ_count': 1, 'adv_verb_ratio': 1.0, 'adj_noun_ratio': 2.0, 'PRON_count': 3, 'ADP_count': 1, 'DET_count': 1, 'PUNCT_count': 1, 'colon_count': 0, 'semicolon_count': 0, 'lparen_count': 0, 'ellipse_count': 0, 'quote_count': 0, 'bang_count': 0}\n",
      "\n",
      "Go to. gold: ori {'sent_len': 6, 'VERB': 1, 'NOUN_count': 0, 'ADV_count': 0, 'VERB_count': 1, 'ADJ_count': 0, 'adv_verb_ratio': 0, 'adj_noun_ratio': 0, 'ADP_count': 1, 'PUNCT_count': 1, 'colon_count': 0, 'semicolon_count': 0, 'lparen_count': 0, 'ellipse_count': 0, 'quote_count': 0, 'bang_count': 0}\n",
      "\n",
      "I'm positively stuffed with air, I eat so much of it. gold: mod {'sent_len': 53, 'VERB_VERB_NOUN_VERB': 1, 'NOUN_count': 1, 'ADV_count': 2, 'VERB_count': 3, 'ADJ_count': 1, 'adv_verb_ratio': 1.5, 'adj_noun_ratio': 1.0, 'PRON_count': 3, 'ADP_count': 2, 'PUNCT_count': 2, 'colon_count': 0, 'semicolon_count': 0, 'lparen_count': 0, 'ellipse_count': 0, 'quote_count': 1, 'bang_count': 0}\n",
      "\n",
      "With no less religion than if thou wert indeed my Rosalind. gold: ori {'sent_len': 59, 'NOUN_VERB_NOUN': 1, 'NOUN_count': 2, 'ADV_count': 1, 'VERB_count': 1, 'ADJ_count': 2, 'adv_verb_ratio': 1.0, 'adj_noun_ratio': 1.0, 'ADP_count': 3, 'DET_count': 1, 'PROPN_count': 1, 'PUNCT_count': 1, 'colon_count': 0, 'semicolon_count': 0, 'lparen_count': 0, 'ellipse_count': 0, 'quote_count': 0, 'bang_count': 0}\n",
      "\n"
     ]
    },
    {
     "name": "stdout",
     "output_type": "stream",
     "text": [
      "God rest you merry, sir. gold: ori {'sent_len': 24, 'VERB_NOUN_NOUN': 1, 'NOUN_count': 2, 'ADV_count': 0, 'VERB_count': 1, 'ADJ_count': 0, 'adv_verb_ratio': 0, 'adj_noun_ratio': 0, 'PROPN_count': 1, 'PRON_count': 1, 'PUNCT_count': 2, 'colon_count': 0, 'semicolon_count': 0, 'lparen_count': 0, 'ellipse_count': 0, 'quote_count': 0, 'bang_count': 0}\n",
      "\n",
      "Eros, can you still see me? gold: mod {'sent_len': 27, 'VERB_VERB': 1, 'NOUN_count': 0, 'ADV_count': 1, 'VERB_count': 2, 'ADJ_count': 0, 'adv_verb_ratio': 2.0, 'adj_noun_ratio': 0, 'INTJ_count': 1, 'PUNCT_count': 2, 'PRON_count': 2, 'colon_count': 0, 'semicolon_count': 0, 'lparen_count': 0, 'ellipse_count': 0, 'quote_count': 0, 'bang_count': 0}\n",
      "\n",
      "list index out of range\n",
      "offending message [], len: 0, row idx: 20465\n",
      "Be wary, then. gold: ori {'sent_len': 14, 'VERB': 1, 'NOUN_count': 0, 'ADV_count': 1, 'VERB_count': 1, 'ADJ_count': 1, 'adv_verb_ratio': 1.0, 'adj_noun_ratio': 0, 'PUNCT_count': 2, 'colon_count': 0, 'semicolon_count': 0, 'lparen_count': 0, 'ellipse_count': 0, 'quote_count': 0, 'bang_count': 0}\n",
      "\n",
      "list index out of range\n",
      "offending message [], len: 0, row idx: 21617\n",
      "list index out of range\n",
      "offending message [], len: 0, row idx: 21960\n",
      "No, they're busy and as excellent as ever. gold: mod {'sent_len': 42, 'VERB_CCONJ': 1, 'NOUN_count': 0, 'ADV_count': 2, 'VERB_count': 1, 'ADJ_count': 2, 'adv_verb_ratio': 0.5, 'adj_noun_ratio': 0, 'INTJ_count': 1, 'PUNCT_count': 2, 'PRON_count': 1, 'CCONJ_count': 1, 'ADP_count': 1, 'colon_count': 0, 'semicolon_count': 0, 'lparen_count': 0, 'ellipse_count': 0, 'quote_count': 1, 'bang_count': 0}\n",
      "\n",
      "list index out of range\n",
      "offending message [], len: 0, row idx: 22386\n",
      "I sent Dromio to you with money for bail, but I don't think he brought it to you. gold: mod {'sent_len': 81, 'VERB_NOUN_NOUN_CCONJ_VERB_VERB_VERB': 1, 'NOUN_count': 2, 'ADV_count': 1, 'VERB_count': 4, 'ADJ_count': 0, 'adv_verb_ratio': 4.0, 'adj_noun_ratio': 0, 'PRON_count': 6, 'PROPN_count': 1, 'ADP_count': 4, 'PUNCT_count': 2, 'CCONJ_count': 1, 'colon_count': 0, 'semicolon_count': 0, 'lparen_count': 0, 'ellipse_count': 0, 'quote_count': 1, 'bang_count': 0}\n",
      "\n",
      "But I, who never knew how to entreat, Nor never needed that I should entreat, Am starved for meat, giddy for lack of sleep, With oaths kept waking and with brawling fed. gold: ori {'sent_len': 169, 'CCONJ_NOUN_VERB_VERB_CCONJ_VERB_VERB': 1, 'NOUN_count': 6, 'ADV_count': 3, 'VERB_count': 10, 'ADJ_count': 1, 'adv_verb_ratio': 3.3333333333333335, 'adj_noun_ratio': 6.0, 'CCONJ_count': 3, 'PRON_count': 2, 'PUNCT_count': 6, 'PART_count': 1, 'ADP_count': 6, 'colon_count': 0, 'semicolon_count': 0, 'lparen_count': 0, 'ellipse_count': 0, 'quote_count': 0, 'bang_count': 0}\n",
      "\n",
      "list index out of range\n",
      "offending message [], len: 0, row idx: 24434\n",
      "A good direction, warlike sovereign. gold: ori {'sent_len': 36, 'NOUN_NOUN': 1, 'NOUN_count': 2, 'ADV_count': 0, 'VERB_count': 0, 'ADJ_count': 2, 'adv_verb_ratio': 0, 'adj_noun_ratio': 1.0, 'DET_count': 1, 'PUNCT_count': 2, 'colon_count': 0, 'semicolon_count': 0, 'lparen_count': 0, 'ellipse_count': 0, 'quote_count': 0, 'bang_count': 0}\n",
      "\n",
      "list index out of range\n",
      "offending message [], len: 0, row idx: 25109\n",
      "Your mistress sent to have me home to dinner? gold: ori {'sent_len': 45, 'NOUN_VERB_VERB_NOUN': 1, 'NOUN_count': 2, 'ADV_count': 1, 'VERB_count': 2, 'ADJ_count': 1, 'adv_verb_ratio': 2.0, 'adj_noun_ratio': 2.0, 'PART_count': 1, 'PRON_count': 1, 'ADP_count': 1, 'PUNCT_count': 1, 'colon_count': 0, 'semicolon_count': 0, 'lparen_count': 0, 'ellipse_count': 0, 'quote_count': 0, 'bang_count': 0}\n",
      "\n",
      "list index out of range\n",
      "offending message [], len: 0, row idx: 26975\n",
      "But fare you well. gold: ori {'sent_len': 18, 'CCONJ_VERB': 1, 'NOUN_count': 0, 'ADV_count': 1, 'VERB_count': 1, 'ADJ_count': 0, 'adv_verb_ratio': 1.0, 'adj_noun_ratio': 0, 'CCONJ_count': 1, 'PRON_count': 1, 'PUNCT_count': 1, 'colon_count': 0, 'semicolon_count': 0, 'lparen_count': 0, 'ellipse_count': 0, 'quote_count': 0, 'bang_count': 0}\n",
      "\n",
      "list index out of range\n",
      "offending message [], len: 0, row idx: 27230\n",
      "She that would be your wife now ran from you. gold: ori {'sent_len': 45, 'VERB_VERB_NOUN_VERB': 1, 'NOUN_count': 1, 'ADV_count': 1, 'VERB_count': 3, 'ADJ_count': 1, 'adv_verb_ratio': 3.0, 'adj_noun_ratio': 1.0, 'PRON_count': 2, 'DET_count': 1, 'ADP_count': 1, 'PUNCT_count': 1, 'colon_count': 0, 'semicolon_count': 0, 'lparen_count': 0, 'ellipse_count': 0, 'quote_count': 0, 'bang_count': 0}\n",
      "\n",
      "list index out of range\n",
      "offending message [], len: 0, row idx: 28707\n",
      "Dolabella! gold: ori {'sent_len': 10, '': 1, 'NOUN_count': 0, 'ADV_count': 0, 'VERB_count': 0, 'ADJ_count': 0, 'adv_verb_ratio': 0, 'adj_noun_ratio': 0, 'PROPN_count': 1, 'PUNCT_count': 1, 'colon_count': 0, 'semicolon_count': 0, 'lparen_count': 0, 'ellipse_count': 0, 'quote_count': 0, 'bang_count': 1}\n",
      "\n",
      "list index out of range\n",
      "offending message [], len: 0, row idx: 29078\n",
      "list index out of range\n",
      "offending message [], len: 0, row idx: 29941\n",
      "list index out of range\n",
      "offending message [], len: 0, row idx: 29998\n",
      "It'll help us more than hurt us. gold: mod {'sent_len': 32, 'VERB_VERB_VERB': 1, 'NOUN_count': 0, 'ADV_count': 1, 'VERB_count': 3, 'ADJ_count': 0, 'adv_verb_ratio': 3.0, 'adj_noun_ratio': 0, 'PRON_count': 3, 'ADP_count': 1, 'PUNCT_count': 1, 'colon_count': 0, 'semicolon_count': 0, 'lparen_count': 0, 'ellipse_count': 0, 'quote_count': 1, 'bang_count': 0}\n",
      "\n",
      "Our bodies are like gardens and our willpower is like the gardener. gold: mod {'sent_len': 67, 'NOUN_VERB_NOUN_CCONJ_NOUN_VERB_NOUN': 1, 'NOUN_count': 4, 'ADV_count': 0, 'VERB_count': 2, 'ADJ_count': 2, 'adv_verb_ratio': 0, 'adj_noun_ratio': 2.0, 'ADP_count': 2, 'CCONJ_count': 1, 'DET_count': 1, 'PUNCT_count': 1, 'colon_count': 0, 'semicolon_count': 0, 'lparen_count': 0, 'ellipse_count': 0, 'quote_count': 0, 'bang_count': 0}\n",
      "\n",
      "list index out of range\n",
      "offending message [], len: 0, row idx: 31482\n",
      "list index out of range\n",
      "offending message [], len: 0, row idx: 31768\n",
      "O heavens, that such companions thou'dst unfold, And put in every honest hand a whip To lash the rascals naked through the world Even from the east to th' west! gold: ori {'sent_len': 160, 'NOUN_NOUN_NOUN_CCONJ_VERB_NOUN_NOUN': 1, 'NOUN_count': 9, 'ADV_count': 1, 'VERB_count': 2, 'ADJ_count': 4, 'adv_verb_ratio': 2.0, 'adj_noun_ratio': 2.25, 'INTJ_count': 1, 'PUNCT_count': 4, 'ADP_count': 4, 'CCONJ_count': 1, 'PART_count': 2, 'DET_count': 5, 'X_count': 1, 'colon_count': 0, 'semicolon_count': 0, 'lparen_count': 0, 'ellipse_count': 0, 'quote_count': 2, 'bang_count': 1}\n",
      "\n",
      "No, that's not it, trust me. gold: mod {'sent_len': 28, 'VERB_VERB': 1, 'NOUN_count': 0, 'ADV_count': 1, 'VERB_count': 2, 'ADJ_count': 0, 'adv_verb_ratio': 2.0, 'adj_noun_ratio': 0, 'INTJ_count': 1, 'PUNCT_count': 3, 'DET_count': 1, 'PRON_count': 2, 'colon_count': 0, 'semicolon_count': 0, 'lparen_count': 0, 'ellipse_count': 0, 'quote_count': 1, 'bang_count': 0}\n",
      "\n",
      "list index out of range\n",
      "offending message [], len: 0, row idx: 33071\n",
      "list index out of range\n",
      "offending message [], len: 0, row idx: 33529\n",
      "list index out of range\n",
      "offending message [], len: 0, row idx: 33955\n",
      "You are a spirit, I know. gold: ori {'sent_len': 25, 'VERB_NOUN_VERB': 1, 'NOUN_count': 1, 'ADV_count': 0, 'VERB_count': 2, 'ADJ_count': 0, 'adv_verb_ratio': 0, 'adj_noun_ratio': 0, 'PRON_count': 2, 'DET_count': 1, 'PUNCT_count': 2, 'colon_count': 0, 'semicolon_count': 0, 'lparen_count': 0, 'ellipse_count': 0, 'quote_count': 0, 'bang_count': 0}\n",
      "\n",
      "I beg your pardon, except for the widow Dido. gold: mod {'sent_len': 45, 'VERB_NOUN_NOUN': 1, 'NOUN_count': 2, 'ADV_count': 0, 'VERB_count': 1, 'ADJ_count': 1, 'adv_verb_ratio': 0, 'adj_noun_ratio': 2.0, 'PRON_count': 1, 'PUNCT_count': 2, 'ADP_count': 2, 'DET_count': 1, 'PROPN_count': 1, 'colon_count': 0, 'semicolon_count': 0, 'lparen_count': 0, 'ellipse_count': 0, 'quote_count': 0, 'bang_count': 0}\n",
      "\n",
      "Please give in, sweet Hermia.--And Lysander, stop acting like she's yours. gold: mod {'sent_len': 74, 'VERB_CCONJ_VERB_VERB_VERB': 1, 'NOUN_count': 0, 'ADV_count': 0, 'VERB_count': 4, 'ADJ_count': 1, 'adv_verb_ratio': 0, 'adj_noun_ratio': 0, 'INTJ_count': 1, 'PART_count': 1, 'PUNCT_count': 4, 'PROPN_count': 2, 'CCONJ_count': 1, 'ADP_count': 1, 'PRON_count': 2, 'colon_count': 0, 'semicolon_count': 0, 'lparen_count': 0, 'ellipse_count': 0, 'quote_count': 1, 'bang_count': 0}\n",
      "\n"
     ]
    },
    {
     "name": "stdout",
     "output_type": "stream",
     "text": [
      "As I intend to prosper and repent, So thrive I in my dangerous affairs Of hostile arms! gold: ori {'sent_len': 87, 'VERB_VERB_CCONJ_VERB_VERB_NOUN_NOUN': 1, 'NOUN_count': 2, 'ADV_count': 1, 'VERB_count': 4, 'ADJ_count': 3, 'adv_verb_ratio': 4.0, 'adj_noun_ratio': 0.6666666666666666, 'ADP_count': 3, 'PRON_count': 2, 'PART_count': 1, 'CCONJ_count': 1, 'PUNCT_count': 2, 'colon_count': 0, 'semicolon_count': 0, 'lparen_count': 0, 'ellipse_count': 0, 'quote_count': 0, 'bang_count': 1}\n",
      "\n",
      "list index out of range\n",
      "offending message [], len: 0, row idx: 37610\n",
      "list index out of range\n",
      "offending message [], len: 0, row idx: 37794\n",
      "Sir, do you know who I am? gold: mod {'sent_len': 26, 'VERB_VERB_NOUN_VERB': 1, 'NOUN_count': 1, 'ADV_count': 0, 'VERB_count': 3, 'ADJ_count': 0, 'adv_verb_ratio': 0, 'adj_noun_ratio': 0, 'PROPN_count': 1, 'PUNCT_count': 2, 'PRON_count': 2, 'colon_count': 0, 'semicolon_count': 0, 'lparen_count': 0, 'ellipse_count': 0, 'quote_count': 0, 'bang_count': 0}\n",
      "\n",
      "Even so lies she, Blubbering and weeping, weeping and blubbering. gold: ori {'sent_len': 65, 'VERB_CCONJ_NOUN_NOUN_CCONJ_NOUN': 1, 'NOUN_count': 3, 'ADV_count': 2, 'VERB_count': 1, 'ADJ_count': 0, 'adv_verb_ratio': 0.5, 'adj_noun_ratio': 0, 'PRON_count': 1, 'PUNCT_count': 3, 'PROPN_count': 1, 'CCONJ_count': 2, 'colon_count': 0, 'semicolon_count': 0, 'lparen_count': 0, 'ellipse_count': 0, 'quote_count': 0, 'bang_count': 0}\n",
      "\n",
      "Draw that thy honest sword, which thou hast worn Most useful for thy country. gold: ori {'sent_len': 77, 'VERB_NOUN_VERB_NOUN_VERB_NOUN': 1, 'NOUN_count': 3, 'ADV_count': 1, 'VERB_count': 3, 'ADJ_count': 5, 'adv_verb_ratio': 3.0, 'adj_noun_ratio': 0.6, 'ADP_count': 2, 'PUNCT_count': 2, 'colon_count': 0, 'semicolon_count': 0, 'lparen_count': 0, 'ellipse_count': 0, 'quote_count': 0, 'bang_count': 0}\n",
      "\n",
      "Belike this is a man of that quirk. gold: ori {'sent_len': 35, 'VERB_NOUN_NOUN': 1, 'NOUN_count': 2, 'ADV_count': 0, 'VERB_count': 1, 'ADJ_count': 0, 'adv_verb_ratio': 0, 'adj_noun_ratio': 0, 'PROPN_count': 1, 'DET_count': 3, 'ADP_count': 1, 'PUNCT_count': 1, 'colon_count': 0, 'semicolon_count': 0, 'lparen_count': 0, 'ellipse_count': 0, 'quote_count': 0, 'bang_count': 0}\n",
      "\n",
      "list index out of range\n",
      "offending message [], len: 0, row idx: 41133\n",
      "We must obey the time. gold: ori {'sent_len': 22, 'VERB_VERB_NOUN': 1, 'NOUN_count': 1, 'ADV_count': 0, 'VERB_count': 2, 'ADJ_count': 0, 'adv_verb_ratio': 0, 'adj_noun_ratio': 0, 'PRON_count': 1, 'DET_count': 1, 'PUNCT_count': 1, 'colon_count': 0, 'semicolon_count': 0, 'lparen_count': 0, 'ellipse_count': 0, 'quote_count': 0, 'bang_count': 0}\n",
      "\n",
      "(42192, 1645)\n"
     ]
    }
   ],
   "source": [
    "from sklearn.feature_extraction import DictVectorizer\n",
    "import spacy\n",
    "import scipy.sparse\n",
    "nlp = spacy.load('en_core_web_sm')\n",
    "\n",
    "vectorizer = DictVectorizer()\n",
    "features = []\n",
    "\n",
    "#bleu: 0-1, 1 is perfect score\n",
    "#bleu = sentence_bleu([sen2],sen1)\n",
    "\n",
    "raw_text_col = 0\n",
    "LABEL_COL = -1\n",
    "\n",
    "def extract_punc_feats(txt):\n",
    "    punc_dict = {}\n",
    "    punc_data = {'colon':':', 'semicolon': ';', 'lparen':'(',\n",
    "                'ellipse': '...', 'quote': \"'\", 'bang': \"!\"}\n",
    "    \n",
    "    for key in punc_data.keys():\n",
    "        punc_dict[key+'_count'] = txt.count(punc_data[key])\n",
    "        #         if txt.count(punc_data[key]) != 0:\n",
    "        #             print(txt)\n",
    "        \n",
    "    return punc_dict\n",
    "\n",
    "def extract_feats(row_idx, raw):\n",
    "    feature_dict = {}\n",
    "    pos_dict = {'NOUN_count': 0, 'ADV_count': 0, 'VERB_count': 0, \n",
    "                'ADJ_count': 0, 'adv_verb_ratio': 0, 'adj_noun_ratio': 0\n",
    "               }\n",
    "    txt = str(raw[row_idx][raw_text_col])\n",
    "    \n",
    "    feature_dict['sent_len'] = len(txt)\n",
    "    \n",
    "    try:\n",
    "        doc = nlp(txt)\n",
    "    except IndexError as e:\n",
    "        print(e)\n",
    "        print(\"offending message [{}], len: {}, row idx: {}\".format(txt, len(txt), row_idx))\n",
    "        doc = []\n",
    "\n",
    "    pos_sequence = []\n",
    "    for token in doc:\n",
    "        pos = token.pos_\n",
    "        pos_dict[pos+'_count'] = pos_dict.get(pos+'_count', 0) + 1\n",
    "        if pos == 'NOUN' or pos == 'VERB' or pos == 'CCONJ':\n",
    "            pos_sequence.append(pos)\n",
    "            \n",
    "    pos_sequence = pos_sequence[:7] # shortening the num of features to reasonable\n",
    "    pos_sequence_name = \"_\".join(pos_sequence)\n",
    "    feature_dict[pos_sequence_name] = 1\n",
    "\n",
    "\n",
    "    if pos_dict['NOUN_count'] == 0 or pos_dict['ADJ_count'] == 0:\n",
    "        pos_dict['adj_noun_ratio'] = 0\n",
    "    else:\n",
    "        pos_dict['adj_noun_ratio'] = pos_dict['NOUN_count'] / pos_dict['ADJ_count'] \n",
    "\n",
    "    if pos_dict['VERB_count'] == 0 or pos_dict['ADV_count'] == 0:\n",
    "        pos_dict['adv_verb_ratio'] = 0\n",
    "    else:\n",
    "        pos_dict['adv_verb_ratio'] = pos_dict['VERB_count'] / pos_dict['ADV_count'] \n",
    "        \n",
    "    feature_dict.update(pos_dict)\n",
    "    feature_dict.update(extract_punc_feats(txt))\n",
    "    \n",
    "    if row_idx % 1000 == 0:\n",
    "        print(\"{} gold: {} {}\\n\".format(txt, raw[row_idx][LABEL_COL], feature_dict) )\n",
    "     \n",
    "    return feature_dict\n",
    "\n",
    "\n",
    "for row_idx,_ in enumerate(raw):\n",
    "    features.append(extract_feats(row_idx, raw))\n",
    "\n",
    "X = vectorizer.fit_transform(features)\n",
    "print(X.shape)\n",
    "\n",
    "X = X.todense()\n"
   ]
  },
  {
   "cell_type": "code",
   "execution_count": null,
   "metadata": {},
   "outputs": [],
   "source": []
  },
  {
   "cell_type": "code",
   "execution_count": 92,
   "metadata": {},
   "outputs": [],
   "source": [
    "\n",
    "persist_features(X, 'X_all_plays_1645.pickle')"
   ]
  },
  {
   "cell_type": "code",
   "execution_count": 93,
   "metadata": {},
   "outputs": [
    {
     "data": {
      "text/plain": [
       "(42192, 1645)"
      ]
     },
     "execution_count": 93,
     "metadata": {},
     "output_type": "execute_result"
    }
   ],
   "source": [
    "with open('raw_all_plays_1645.pickle', 'rb') as f:\n",
    "    raw = pickle.load(f)\n",
    "\n",
    "with open('X_all_plays_1645.pickle', 'rb') as f:\n",
    "    X = pickle.load(f)\n",
    "X.shape\n",
    "\n"
   ]
  },
  {
   "cell_type": "code",
   "execution_count": null,
   "metadata": {},
   "outputs": [],
   "source": [
    " "
   ]
  },
  {
   "cell_type": "code",
   "execution_count": 94,
   "metadata": {},
   "outputs": [
    {
     "name": "stdout",
     "output_type": "stream",
     "text": [
      "10548.0\n",
      "total rows: 42192 train val split delim: 8438 val test split delim: 9493\n"
     ]
    }
   ],
   "source": [
    "from sklearn.linear_model import LogisticRegression\n",
    "from sklearn.naive_bayes import MultinomialNB\n",
    "from sklearn import svm\n",
    "\n",
    "import time\n",
    "import math\n",
    "###############\n",
    "# training ####\n",
    "###############\n",
    "\n",
    "\n",
    "n = len(X)*.25\n",
    "print(n)\n",
    "train_val_split_delim = math.floor(n * .8)\n",
    "val_test_split_delim = math.floor(n * .9)\n",
    "end_delim = int(n)\n",
    "\n",
    "\n",
    "print(\"total rows: {} train val split delim: {} val test split delim: {}\".format(len(X), train_val_split_delim, val_test_split_delim))\n",
    "# numpy note: addressing [:delim] is exclusive of delim, but\n",
    "#                         [delim:] is inclusive of delim\n",
    "\n",
    "\n",
    "X_train = X[0:train_val_split_delim]\n",
    "Y_train = raw[0:train_val_split_delim,LABEL_COL]\n",
    "\n",
    "X_val = X[train_val_split_delim:val_test_split_delim]\n",
    "Y_val = raw[train_val_split_delim:val_test_split_delim,LABEL_COL]\n",
    "\n",
    "X_test = X[val_test_split_delim:end_delim]\n",
    "Y_test = raw[val_test_split_delim:end_delim,LABEL_COL]\n",
    "\n",
    "if len(X_test) != len(Y_test):\n",
    "    raise ValueError(\"mismatched arrays! {} {}\".format(len(preds), len(y_true)))\n",
    "\n",
    "\n",
    "#mdl = LogisticRegression(random_state=123)\n",
    "#mdl = MultinomialNB()\n",
    "mdl = svm.SVC(kernel = 'linear', C=.1) # Accuracy: 0.589743\n",
    "    # with all plays: .611\n",
    "mdl.fit(X_train, Y_train)\n",
    "\n",
    "np.set_printoptions(suppress=True)\n"
   ]
  },
  {
   "cell_type": "code",
   "execution_count": 95,
   "metadata": {},
   "outputs": [],
   "source": [
    "# def persist_features(X, name='X_all_plays.pickle'):\n",
    "#     with open(name, 'wb') as f:\n",
    "#         pickle.dump(X, f, pickle.HIGHEST_PROTOCOL)\n",
    "\n",
    "#persist_features(mdl, 'mdl_all_plays_pos_7_gram.pickle')\n",
    "# persist_features(X, 'X_all_plays_pos_gram.pickle')"
   ]
  },
  {
   "cell_type": "code",
   "execution_count": 96,
   "metadata": {},
   "outputs": [
    {
     "name": "stdout",
     "output_type": "stream",
     "text": [
      "Accuracy: 0.6502369668246446\n",
      "Predictions evaluated: 1055\n"
     ]
    }
   ],
   "source": [
    "# evaluation ###\n",
    "################\n",
    "#second class is original\n",
    "\n",
    "\n",
    "#y_true = raw[train_val_split_delim:val_test_split_delim,LABEL_COL]\n",
    "preds = mdl.predict(X_val)\n",
    "#y_true = [int(raw[int(idx)][-1]) for idx in val_indices]\n",
    "\n",
    "# brier = brier_score_loss(y_true, preds[:,0]) \n",
    "# print(\"brier score:\", brier)\n",
    "\n",
    "#currently slightly worse than randomly permuting preds\n",
    "\n",
    "def accuracy(preds, y_true):\n",
    "    if len(preds) != len(y_true):\n",
    "        raise ValueError(\"mismatched arrays! {} {}\".format(len(preds), len(y_true)))\n",
    "    num_correct = 0\n",
    "    for (x,y) in zip(preds, y_true):\n",
    "        if x == y:\n",
    "            num_correct = num_correct + 1\n",
    "    return num_correct/len(preds)\n",
    "\n",
    "print(\"Accuracy: {}\".format(accuracy(preds,Y_val)))\n",
    "print(\"Predictions evaluated: {}\".format(len(preds)))"
   ]
  },
  {
   "cell_type": "code",
   "execution_count": 97,
   "metadata": {},
   "outputs": [
    {
     "name": "stdout",
     "output_type": "stream",
     "text": [
      "[[226 280]\n",
      " [ 89 460]]\n"
     ]
    },
    {
     "data": {
      "image/png": "[encoded data removed]",
      "text/plain": [
       "<Figure size 432x288 with 2 Axes>"
      ]
     },
     "metadata": {},
     "output_type": "display_data"
    }
   ],
   "source": [
    "# error analysis ##\n",
    "##################\n",
    "\n",
    "\n",
    "from sklearn.metrics import confusion_matrix\n",
    "import matplotlib.pyplot as plt\n",
    "import itertools\n",
    "\n",
    "conf_mat = confusion_matrix(Y_val, preds)\n",
    "# fig, ax = plt.subplots(figsize=(10,10))\n",
    "# # sns.heatmap(conf_mat, annot=True, fmt='d',\n",
    "# #             xticklabels=category_id_df.Product.values, yticklabels=category_id_df.Product.values)\n",
    "# plt.ylabel('Actual')\n",
    "# plt.xlabel('Predicted')\n",
    "\n",
    "# NOTE: this function taken from: \n",
    "# http://scikit-learn.org/stable/auto_examples/model_selection/plot_confusion_matrix.html#sphx-glr-auto-examples-model-selection-plot-confusion-matrix-py\n",
    "def plot_confusion_matrix(cm, classes,\n",
    "                          title='Confusion matrix',\n",
    "                          cmap=plt.cm.Blues):\n",
    "\n",
    "    plt.imshow(cm, interpolation='nearest', cmap=cmap)\n",
    "    plt.title(title)\n",
    "    plt.colorbar()\n",
    "    tick_marks = np.arange(len(classes))\n",
    "    plt.xticks(tick_marks, classes, rotation=45)\n",
    "    plt.yticks(tick_marks, classes)\n",
    "\n",
    "    fmt = '.2f'\n",
    "    thresh = 500\n",
    "    for i, j in itertools.product(range(cm.shape[0]), range(cm.shape[1])):\n",
    "        plt.text(j, i, format(cm[i, j], fmt),\n",
    "                 horizontalalignment=\"center\",\n",
    "                 color=\"white\" if cm[i, j] > thresh else \"black\")\n",
    "\n",
    "    plt.tight_layout()\n",
    "    plt.ylabel('True label')\n",
    "    plt.xlabel('Predicted label')\n",
    "\n",
    "\n",
    "plt.figure()\n",
    "print(conf_mat)\n",
    "plot_confusion_matrix(conf_mat, classes=mdl.classes_,\n",
    "                      title=\"Confusion matrix\")\n",
    "plt.show()"
   ]
  },
  {
   "cell_type": "code",
   "execution_count": 98,
   "metadata": {},
   "outputs": [],
   "source": [
    "# test_len = len(preds)\n",
    "# accuracy = sum(preds)/float(test_len)\n",
    "# print(\"accuracy: {}\".format(accuracy))\n",
    "\n",
    "#othello accuracy: 0.7428571428571429. but maybe not permuted\n",
    "#all: accuracy: 0.328237942884228\n",
    "\n",
    "#pos, no bleu, 2 plays\n",
    "# Mult NB: .519"
   ]
  },
  {
   "cell_type": "code",
   "execution_count": 99,
   "metadata": {},
   "outputs": [],
   "source": [
    "# doc = nlp(u\"a sleep that ends all the heartache\")\n",
    "# # span = doc[doc[4].left_edge.i : doc[4].right_edge.i+1]\n",
    "# # span.merge()\n",
    "# for token in doc:\n",
    "#     print(token.text, token.pos_, token.dep_, token.head.text)"
   ]
  },
  {
   "cell_type": "code",
   "execution_count": 100,
   "metadata": {},
   "outputs": [],
   "source": [
    "#raw[:10]"
   ]
  },
  {
   "cell_type": "code",
   "execution_count": 101,
   "metadata": {},
   "outputs": [
    {
     "data": {
      "text/plain": [
       "2"
      ]
     },
     "execution_count": 101,
     "metadata": {},
     "output_type": "execute_result"
    }
   ],
   "source": [
    "int(2.1)"
   ]
  },
  {
   "cell_type": "code",
   "execution_count": 104,
   "metadata": {},
   "outputs": [
    {
     "ename": "AttributeError",
     "evalue": "module 'time' has no attribute 'now'",
     "output_type": "error",
     "traceback": [
      "\u001b[0;31m---------------------------------------------------------------------------\u001b[0m",
      "\u001b[0;31mAttributeError\u001b[0m                            Traceback (most recent call last)",
      "\u001b[0;32m<ipython-input-104-31dd21e4d632>\u001b[0m in \u001b[0;36m<module>\u001b[0;34m()\u001b[0m\n\u001b[0;32m----> 1\u001b[0;31m \u001b[0mprint\u001b[0m\u001b[0;34m(\u001b[0m\u001b[0mtime\u001b[0m\u001b[0;34m.\u001b[0m\u001b[0mnow\u001b[0m\u001b[0;34m(\u001b[0m\u001b[0;34m)\u001b[0m\u001b[0;34m)\u001b[0m\u001b[0;34m\u001b[0m\u001b[0m\n\u001b[0m",
      "\u001b[0;31mAttributeError\u001b[0m: module 'time' has no attribute 'now'"
     ]
    }
   ],
   "source": []
  },
  {
   "cell_type": "code",
   "execution_count": null,
   "metadata": {},
   "outputs": [],
   "source": []
  }
 ],
 "metadata": {
  "kernelspec": {
   "display_name": "Python 3",
   "language": "python",
   "name": "python3"
  },
  "language_info": {
   "codemirror_mode": {
    "name": "ipython",
    "version": 3
   },
   "file_extension": ".py",
   "mimetype": "text/x-python",
   "name": "python",
   "nbconvert_exporter": "python",
   "pygments_lexer": "ipython3",
   "version": "3.6.6"
  }
 },
 "nbformat": 4,
 "nbformat_minor": 2
}
